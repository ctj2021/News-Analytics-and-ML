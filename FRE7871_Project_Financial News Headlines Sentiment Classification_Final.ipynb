{
 "cells": [
  {
   "cell_type": "markdown",
   "id": "c4c6f7c9",
   "metadata": {},
   "source": [
    "# 1 Financial News Headlines Sentiment Classification"
   ]
  },
  {
   "cell_type": "markdown",
   "id": "e492c040",
   "metadata": {},
   "source": [
    "**Group Member:**\n",
    "\n",
    "- Siyang Huang - sh5958@nyu.edu\n",
    "- Tianjing Cao - tc3385@nyu.edu\n",
    "- Zhuoran Ma - zm2161@nyu.edu"
   ]
  },
  {
   "cell_type": "markdown",
   "id": "852fe2e7",
   "metadata": {},
   "source": [
    "**Introduction:**\n",
    "\n",
    "- In this notebook, we processed financial news headlines text data from [Kaggle](https://www.kaggle.com/datasets/miguelaenlle/massive-stock-news-analysis-db-for-nlpbacktests?resource=download&select=raw_partner_headlines.csv) with TF-IDF vectorizer and [pretrained BERT sentence transformer](https://www.sbert.net/docs/quickstart.html) as two different kinds of X inputs.\n",
    "\n",
    "- With supervised machine learning models, we labeled the headlines in two ways: using corresponding stock daily returns with absolute value > 0.1 (Label Type I) or using [huggingface transformers pipeline of sentiment analysis](https://huggingface.co/docs/transformers/main_classes/pipelines) (Label Type II).\n",
    "\n",
    "- Then, on both Label Tpyes I and II, we trained first kind of X input (TF-IDF vectorizer) with [fine-tuned Naive Bayes](https://skimai.com/fine-tuning-bert-for-sentiment-analysis/), and second kind of X input (pretrained BERT sentence transformer) with fine-tuned Random Forest Classifier.\n",
    "\n",
    "- Also, we tried Logistic Regression, Gaussian Naive Bayes, SVM and TCN with some default settings to compare 6 classifiers' performance (test set accuracy, ROC Curve and AUC), and output some test examples at the end."
   ]
  },
  {
   "cell_type": "markdown",
   "id": "3bd1dd1e",
   "metadata": {},
   "source": [
    "**Notes:**\n",
    "- All .csv and .pkl data files are availble in zip file. \n",
    "- If these files are downloaded and saved to current working directory, the running time will be greatly shortened."
   ]
  },
  {
   "cell_type": "markdown",
   "id": "93e849e4",
   "metadata": {},
   "source": [
    "# 2 Initial Setup"
   ]
  },
  {
   "cell_type": "code",
   "execution_count": 1,
   "id": "ec8e5a04",
   "metadata": {},
   "outputs": [],
   "source": [
    "# import packages\n",
    "import numpy as np\n",
    "import pandas as pd\n",
    "import os\n",
    "import re\n",
    "import matplotlib.pyplot as plt\n",
    "%matplotlib inline"
   ]
  },
  {
   "cell_type": "markdown",
   "id": "7bf9a8f2",
   "metadata": {},
   "source": [
    "## 2.1 Load financial news rawdata download from [Kaggle](https://www.kaggle.com/datasets/miguelaenlle/massive-stock-news-analysis-db-for-nlpbacktests?resource=download&select=raw_partner_headlines.csv)"
   ]
  },
  {
   "cell_type": "code",
   "execution_count": 2,
   "id": "b248eb61",
   "metadata": {},
   "outputs": [
    {
     "name": "stdout",
     "output_type": "stream",
     "text": [
      "There are 1845559 news headlines in this rawdata\n"
     ]
    },
    {
     "data": {
      "text/html": [
       "<div>\n",
       "<style scoped>\n",
       "    .dataframe tbody tr th:only-of-type {\n",
       "        vertical-align: middle;\n",
       "    }\n",
       "\n",
       "    .dataframe tbody tr th {\n",
       "        vertical-align: top;\n",
       "    }\n",
       "\n",
       "    .dataframe thead th {\n",
       "        text-align: right;\n",
       "    }\n",
       "</style>\n",
       "<table border=\"1\" class=\"dataframe\">\n",
       "  <thead>\n",
       "    <tr style=\"text-align: right;\">\n",
       "      <th></th>\n",
       "      <th>headline</th>\n",
       "      <th>date</th>\n",
       "      <th>stock</th>\n",
       "    </tr>\n",
       "  </thead>\n",
       "  <tbody>\n",
       "    <tr>\n",
       "      <th>0</th>\n",
       "      <td>Agilent Technologies Announces Pricing of $5……...</td>\n",
       "      <td>2020-06-01</td>\n",
       "      <td>A</td>\n",
       "    </tr>\n",
       "    <tr>\n",
       "      <th>1</th>\n",
       "      <td>Agilent (A) Gears Up for Q2 Earnings: What's i...</td>\n",
       "      <td>2020-05-18</td>\n",
       "      <td>A</td>\n",
       "    </tr>\n",
       "    <tr>\n",
       "      <th>2</th>\n",
       "      <td>J.P. Morgan Asset Management Announces Liquida...</td>\n",
       "      <td>2020-05-15</td>\n",
       "      <td>A</td>\n",
       "    </tr>\n",
       "    <tr>\n",
       "      <th>3</th>\n",
       "      <td>Pershing Square Capital Management, L.P. Buys ...</td>\n",
       "      <td>2020-05-15</td>\n",
       "      <td>A</td>\n",
       "    </tr>\n",
       "    <tr>\n",
       "      <th>4</th>\n",
       "      <td>Agilent Awards Trilogy Sciences with a Golden ...</td>\n",
       "      <td>2020-05-12</td>\n",
       "      <td>A</td>\n",
       "    </tr>\n",
       "  </tbody>\n",
       "</table>\n",
       "</div>"
      ],
      "text/plain": [
       "                                            headline       date stock\n",
       "0  Agilent Technologies Announces Pricing of $5……... 2020-06-01     A\n",
       "1  Agilent (A) Gears Up for Q2 Earnings: What's i... 2020-05-18     A\n",
       "2  J.P. Morgan Asset Management Announces Liquida... 2020-05-15     A\n",
       "3  Pershing Square Capital Management, L.P. Buys ... 2020-05-15     A\n",
       "4  Agilent Awards Trilogy Sciences with a Golden ... 2020-05-12     A"
      ]
     },
     "execution_count": 2,
     "metadata": {},
     "output_type": "execute_result"
    }
   ],
   "source": [
    "# load rawdata: Daily Financial News for 6000+ Stocks from 2009-2020\n",
    "rawdata = pd.read_csv('raw_partner_headlines.csv', usecols=[1,4,5], parse_dates=['date'])\n",
    "print(\"There are {} news headlines in this rawdata\".format(rawdata.shape[0]))\n",
    "rawdata.head()"
   ]
  },
  {
   "cell_type": "markdown",
   "id": "9bd07014",
   "metadata": {},
   "source": [
    "## 2.2 Check and Process financial news rawdata"
   ]
  },
  {
   "cell_type": "code",
   "execution_count": 3,
   "id": "ba7c7250",
   "metadata": {},
   "outputs": [
    {
     "data": {
      "text/plain": [
       "date\n",
       "1969         1\n",
       "2010     12879\n",
       "2011     46660\n",
       "2012    111395\n",
       "2013     90521\n",
       "2014    110163\n",
       "2015    281920\n",
       "2016    233045\n",
       "2017    161457\n",
       "2018    332601\n",
       "2019    368574\n",
       "2020     96343\n",
       "Name: date, dtype: int64"
      ]
     },
     "execution_count": 3,
     "metadata": {},
     "output_type": "execute_result"
    }
   ],
   "source": [
    "# count the number of news in each year\n",
    "rawdata.groupby([rawdata['date'].dt.year])['date'].count()"
   ]
  },
  {
   "cell_type": "code",
   "execution_count": 4,
   "id": "c15b6c0b",
   "metadata": {},
   "outputs": [],
   "source": [
    "# delete the one piece of news in 1969\n",
    "rawdata.drop(rawdata[rawdata['date'].dt.year==1969].index, inplace=True)"
   ]
  },
  {
   "cell_type": "code",
   "execution_count": 5,
   "id": "a09206e8",
   "metadata": {},
   "outputs": [
    {
     "name": "stdout",
     "output_type": "stream",
     "text": [
      "The time range of this rawdata is from 2010-02-03 00:00:00 to 2020-06-04 00:00:00\n"
     ]
    }
   ],
   "source": [
    "# set start date and end date 2010-2020\n",
    "start_date = min(rawdata.date)\n",
    "end_date = max(rawdata.date)\n",
    "print(\"The time range of this rawdata is from {} to {}\".format(start_date, end_date))"
   ]
  },
  {
   "cell_type": "markdown",
   "id": "c46b0771",
   "metadata": {},
   "source": [
    "## 2.3 Produce Y Label Type I - daily return of each stock on corresponding date as label"
   ]
  },
  {
   "cell_type": "code",
   "execution_count": 6,
   "id": "2b6ffd3e",
   "metadata": {},
   "outputs": [
    {
     "name": "stdout",
     "output_type": "stream",
     "text": [
      "There are 6552 unique stocks in this rawdata\n"
     ]
    }
   ],
   "source": [
    "# get unique stock tickers\n",
    "unique_stocks = list(rawdata['stock'].unique())\n",
    "print(\"There are {} unique stocks in this rawdata\".format(len(unique_stocks)))"
   ]
  },
  {
   "cell_type": "code",
   "execution_count": 7,
   "id": "867f737d",
   "metadata": {},
   "outputs": [
    {
     "name": "stdout",
     "output_type": "stream",
     "text": [
      "<Read stock_close_price from local file>\n"
     ]
    }
   ],
   "source": [
    "# get stock close price\n",
    "import yfinance as yf\n",
    "if os.path.exists('stock_close_price.csv'):\n",
    "    close_price = pd.read_csv('stock_close_price.csv', parse_dates=['Date'], index_col=0)\n",
    "    print(\"<Read stock_close_price from local file>\")\n",
    "else:\n",
    "    close_price = yf.download(unique_stocks, start=start_date, end=end_date, threads=False)['Adj Close']\n",
    "    close_price.to_csv('stock_close_price.csv')\n",
    "    print(\"<Save stock_close_price to local file>\")"
   ]
  },
  {
   "cell_type": "code",
   "execution_count": 8,
   "id": "d4192851",
   "metadata": {},
   "outputs": [
    {
     "name": "stdout",
     "output_type": "stream",
     "text": [
      "<Read stock_bigreturn_label_10.csv from local file>\n"
     ]
    }
   ],
   "source": [
    "# get stock return label\n",
    "bigreturn_threshold = 10\n",
    "stock_bigreturn_filename = 'stock_bigreturn_label_'+str(bigreturn_threshold)+'.csv'\n",
    "\n",
    "if os.path.exists(stock_bigreturn_filename):\n",
    "    stock_return = pd.read_csv(stock_bigreturn_filename, parse_dates=['date'], usecols=[1,2,3])\n",
    "    print(\"<Read {} from local file>\".format(stock_bigreturn_filename))\n",
    "else:\n",
    "    # calculate stock daily return of the next day (Close/Close-1 as return label for training only not for trading)\n",
    "    stock_return = close_price.pct_change().shift(-1)\n",
    "    stock_return.head()\n",
    "    # unstack stock_return and delete rows where stock_return==0\n",
    "    stock_return = stock_return.unstack().reset_index()\n",
    "    stock_return.columns = ['stock', 'date', 'return']\n",
    "    stock_return.drop(stock_return[stock_return['return']==0].index, inplace=True)\n",
    "    # mark return>0.1 as label 1 and return<-0.1 as label 0\n",
    "    stock_return.loc[:, 'label'] = np.NaN\n",
    "    stock_return.loc[stock_return['return']>(bigreturn_threshold/100), 'label'] = 1\n",
    "    stock_return.loc[stock_return['return']<-(bigreturn_threshold/100), 'label'] = 0\n",
    "    del stock_return['return']\n",
    "    stock_return.dropna(inplace=True)\n",
    "    stock_return['label'] = stock_return['label'].astype('int')\n",
    "    # save csv file\n",
    "    stock_return.to_csv(stock_bigreturn_filename)\n",
    "    print(\"<Save {} to local file>\".format(stock_bigreturn_filename))"
   ]
  },
  {
   "cell_type": "code",
   "execution_count": 9,
   "id": "ebd0d24d",
   "metadata": {},
   "outputs": [
    {
     "data": {
      "text/html": [
       "<div>\n",
       "<style scoped>\n",
       "    .dataframe tbody tr th:only-of-type {\n",
       "        vertical-align: middle;\n",
       "    }\n",
       "\n",
       "    .dataframe tbody tr th {\n",
       "        vertical-align: top;\n",
       "    }\n",
       "\n",
       "    .dataframe thead th {\n",
       "        text-align: right;\n",
       "    }\n",
       "</style>\n",
       "<table border=\"1\" class=\"dataframe\">\n",
       "  <thead>\n",
       "    <tr style=\"text-align: right;\">\n",
       "      <th></th>\n",
       "      <th>stock</th>\n",
       "      <th>date</th>\n",
       "      <th>label</th>\n",
       "    </tr>\n",
       "  </thead>\n",
       "  <tbody>\n",
       "    <tr>\n",
       "      <th>115216</th>\n",
       "      <td>ZUMZ</td>\n",
       "      <td>2020-03-23</td>\n",
       "      <td>1</td>\n",
       "    </tr>\n",
       "    <tr>\n",
       "      <th>115217</th>\n",
       "      <td>ZUMZ</td>\n",
       "      <td>2020-03-31</td>\n",
       "      <td>0</td>\n",
       "    </tr>\n",
       "    <tr>\n",
       "      <th>115218</th>\n",
       "      <td>ZUMZ</td>\n",
       "      <td>2020-04-03</td>\n",
       "      <td>1</td>\n",
       "    </tr>\n",
       "    <tr>\n",
       "      <th>115219</th>\n",
       "      <td>ZUMZ</td>\n",
       "      <td>2020-04-06</td>\n",
       "      <td>1</td>\n",
       "    </tr>\n",
       "    <tr>\n",
       "      <th>115220</th>\n",
       "      <td>ZUMZ</td>\n",
       "      <td>2020-04-24</td>\n",
       "      <td>1</td>\n",
       "    </tr>\n",
       "  </tbody>\n",
       "</table>\n",
       "</div>"
      ],
      "text/plain": [
       "       stock       date  label\n",
       "115216  ZUMZ 2020-03-23      1\n",
       "115217  ZUMZ 2020-03-31      0\n",
       "115218  ZUMZ 2020-04-03      1\n",
       "115219  ZUMZ 2020-04-06      1\n",
       "115220  ZUMZ 2020-04-24      1"
      ]
     },
     "execution_count": 9,
     "metadata": {},
     "output_type": "execute_result"
    }
   ],
   "source": [
    "stock_return.tail()"
   ]
  },
  {
   "cell_type": "code",
   "execution_count": 10,
   "id": "9681db2e",
   "metadata": {},
   "outputs": [
    {
     "name": "stdout",
     "output_type": "stream",
     "text": [
      "There are 27520 news headlines in this return label data\n"
     ]
    },
    {
     "data": {
      "text/html": [
       "<div>\n",
       "<style scoped>\n",
       "    .dataframe tbody tr th:only-of-type {\n",
       "        vertical-align: middle;\n",
       "    }\n",
       "\n",
       "    .dataframe tbody tr th {\n",
       "        vertical-align: top;\n",
       "    }\n",
       "\n",
       "    .dataframe thead th {\n",
       "        text-align: right;\n",
       "    }\n",
       "</style>\n",
       "<table border=\"1\" class=\"dataframe\">\n",
       "  <thead>\n",
       "    <tr style=\"text-align: right;\">\n",
       "      <th></th>\n",
       "      <th>headline</th>\n",
       "      <th>date</th>\n",
       "      <th>stock</th>\n",
       "      <th>label</th>\n",
       "    </tr>\n",
       "  </thead>\n",
       "  <tbody>\n",
       "    <tr>\n",
       "      <th>186</th>\n",
       "      <td>Agilent Technologies, Inc. (A) CEO Mike McMull...</td>\n",
       "      <td>2019-05-14</td>\n",
       "      <td>A</td>\n",
       "      <td>0</td>\n",
       "    </tr>\n",
       "    <tr>\n",
       "      <th>187</th>\n",
       "      <td>A, ACB, EGHT and TLRY among notable after hour...</td>\n",
       "      <td>2019-05-14</td>\n",
       "      <td>A</td>\n",
       "      <td>0</td>\n",
       "    </tr>\n",
       "    <tr>\n",
       "      <th>188</th>\n",
       "      <td>Agilent Technologies (A) Q2 Earnings and Reven...</td>\n",
       "      <td>2019-05-14</td>\n",
       "      <td>A</td>\n",
       "      <td>0</td>\n",
       "    </tr>\n",
       "    <tr>\n",
       "      <th>189</th>\n",
       "      <td>Agilent down 8% after hours on FQ2 miss, reven...</td>\n",
       "      <td>2019-05-14</td>\n",
       "      <td>A</td>\n",
       "      <td>0</td>\n",
       "    </tr>\n",
       "    <tr>\n",
       "      <th>190</th>\n",
       "      <td>Agilent misses by $0.01, misses on revenue</td>\n",
       "      <td>2019-05-14</td>\n",
       "      <td>A</td>\n",
       "      <td>0</td>\n",
       "    </tr>\n",
       "  </tbody>\n",
       "</table>\n",
       "</div>"
      ],
      "text/plain": [
       "                                              headline       date stock  label\n",
       "186  Agilent Technologies, Inc. (A) CEO Mike McMull... 2019-05-14     A      0\n",
       "187  A, ACB, EGHT and TLRY among notable after hour... 2019-05-14     A      0\n",
       "188  Agilent Technologies (A) Q2 Earnings and Reven... 2019-05-14     A      0\n",
       "189  Agilent down 8% after hours on FQ2 miss, reven... 2019-05-14     A      0\n",
       "190         Agilent misses by $0.01, misses on revenue 2019-05-14     A      0"
      ]
     },
     "execution_count": 10,
     "metadata": {},
     "output_type": "execute_result"
    }
   ],
   "source": [
    "# merge financial news rawdata with stock return labels, then dropna\n",
    "df = pd.merge(rawdata, stock_return, how='left', left_on=['stock','date'], right_on=['stock','date'])\n",
    "df.dropna(inplace=True)\n",
    "df['label'] = df['label'].astype('int')\n",
    "print(\"There are {} news headlines in this return label data\".format(df.shape[0]))\n",
    "df.head()"
   ]
  },
  {
   "cell_type": "markdown",
   "id": "a195ea14",
   "metadata": {},
   "source": [
    "## 2.4 Produce Y Label Type II - pipeline sentiment analysis of each headline as label"
   ]
  },
  {
   "cell_type": "code",
   "execution_count": 11,
   "id": "02851e10",
   "metadata": {},
   "outputs": [
    {
     "name": "stdout",
     "output_type": "stream",
     "text": [
      "<Read stock_headline_sentiment from local file>\n"
     ]
    },
    {
     "data": {
      "text/html": [
       "<div>\n",
       "<style scoped>\n",
       "    .dataframe tbody tr th:only-of-type {\n",
       "        vertical-align: middle;\n",
       "    }\n",
       "\n",
       "    .dataframe tbody tr th {\n",
       "        vertical-align: top;\n",
       "    }\n",
       "\n",
       "    .dataframe thead th {\n",
       "        text-align: right;\n",
       "    }\n",
       "</style>\n",
       "<table border=\"1\" class=\"dataframe\">\n",
       "  <thead>\n",
       "    <tr style=\"text-align: right;\">\n",
       "      <th></th>\n",
       "      <th>headline</th>\n",
       "      <th>date</th>\n",
       "      <th>stock</th>\n",
       "      <th>label</th>\n",
       "      <th>sentiment</th>\n",
       "      <th>sentiment_score</th>\n",
       "    </tr>\n",
       "  </thead>\n",
       "  <tbody>\n",
       "    <tr>\n",
       "      <th>0</th>\n",
       "      <td>Agilent Technologies, Inc. (A) CEO Mike McMull...</td>\n",
       "      <td>2019-05-14</td>\n",
       "      <td>A</td>\n",
       "      <td>0</td>\n",
       "      <td>neutral</td>\n",
       "      <td>0.909800</td>\n",
       "    </tr>\n",
       "    <tr>\n",
       "      <th>1</th>\n",
       "      <td>A, ACB, EGHT and TLRY among notable after hour...</td>\n",
       "      <td>2019-05-14</td>\n",
       "      <td>A</td>\n",
       "      <td>0</td>\n",
       "      <td>neutral</td>\n",
       "      <td>0.808891</td>\n",
       "    </tr>\n",
       "    <tr>\n",
       "      <th>2</th>\n",
       "      <td>Agilent Technologies (A) Q2 Earnings and Reven...</td>\n",
       "      <td>2019-05-14</td>\n",
       "      <td>A</td>\n",
       "      <td>0</td>\n",
       "      <td>negative</td>\n",
       "      <td>0.962386</td>\n",
       "    </tr>\n",
       "    <tr>\n",
       "      <th>3</th>\n",
       "      <td>Agilent down 8% after hours on FQ2 miss, reven...</td>\n",
       "      <td>2019-05-14</td>\n",
       "      <td>A</td>\n",
       "      <td>0</td>\n",
       "      <td>negative</td>\n",
       "      <td>0.969427</td>\n",
       "    </tr>\n",
       "    <tr>\n",
       "      <th>4</th>\n",
       "      <td>Agilent misses by $0.01, misses on revenue</td>\n",
       "      <td>2019-05-14</td>\n",
       "      <td>A</td>\n",
       "      <td>0</td>\n",
       "      <td>negative</td>\n",
       "      <td>0.928350</td>\n",
       "    </tr>\n",
       "  </tbody>\n",
       "</table>\n",
       "</div>"
      ],
      "text/plain": [
       "                                            headline       date stock  label  \\\n",
       "0  Agilent Technologies, Inc. (A) CEO Mike McMull... 2019-05-14     A      0   \n",
       "1  A, ACB, EGHT and TLRY among notable after hour... 2019-05-14     A      0   \n",
       "2  Agilent Technologies (A) Q2 Earnings and Reven... 2019-05-14     A      0   \n",
       "3  Agilent down 8% after hours on FQ2 miss, reven... 2019-05-14     A      0   \n",
       "4         Agilent misses by $0.01, misses on revenue 2019-05-14     A      0   \n",
       "\n",
       "  sentiment  sentiment_score  \n",
       "0   neutral         0.909800  \n",
       "1   neutral         0.808891  \n",
       "2  negative         0.962386  \n",
       "3  negative         0.969427  \n",
       "4  negative         0.928350  "
      ]
     },
     "execution_count": 11,
     "metadata": {},
     "output_type": "execute_result"
    }
   ],
   "source": [
    "# record sentiment label and score for each headline\n",
    "from transformers import pipeline\n",
    "classifier = pipeline('sentiment-analysis', model='ProsusAI/finbert')\n",
    "def sentiment_analysis(sentence):\n",
    "    return classifier(sentence)[0]['label'], classifier(sentence)[0]['score']\n",
    "        \n",
    "if os.path.exists('stock_headline_sentiment.csv'):\n",
    "    df = pd.read_csv('stock_headline_sentiment.csv', parse_dates=['date'], usecols=[1,2,3,4,5,6])\n",
    "    print(\"<Read stock_headline_sentiment from local file>\")\n",
    "else:\n",
    "    df['sentiment'] = np.NaN\n",
    "    df['sentiment_score'] = np.NaN\n",
    "    for i in df.index:\n",
    "        label, score = sentiment_analysis(df.loc[i, 'headline'])\n",
    "        df.loc[i,'sentiment'] = label\n",
    "        df.loc[i,'sentiment_score'] = score\n",
    "    # save csv file\n",
    "    df.to_csv('stock_headline_sentiment.csv')\n",
    "    print(\"<Save stock_headline_sentiment to local file>\")\n",
    "df.head()"
   ]
  },
  {
   "cell_type": "code",
   "execution_count": 12,
   "id": "89db04f3",
   "metadata": {},
   "outputs": [
    {
     "name": "stdout",
     "output_type": "stream",
     "text": [
      "There are 11440 news headlines in this final labels data\n"
     ]
    },
    {
     "data": {
      "text/html": [
       "<div>\n",
       "<style scoped>\n",
       "    .dataframe tbody tr th:only-of-type {\n",
       "        vertical-align: middle;\n",
       "    }\n",
       "\n",
       "    .dataframe tbody tr th {\n",
       "        vertical-align: top;\n",
       "    }\n",
       "\n",
       "    .dataframe thead th {\n",
       "        text-align: right;\n",
       "    }\n",
       "</style>\n",
       "<table border=\"1\" class=\"dataframe\">\n",
       "  <thead>\n",
       "    <tr style=\"text-align: right;\">\n",
       "      <th></th>\n",
       "      <th>headline</th>\n",
       "      <th>date</th>\n",
       "      <th>stock</th>\n",
       "      <th>label</th>\n",
       "      <th>sentiment</th>\n",
       "      <th>sentiment_score</th>\n",
       "      <th>sentiment_label</th>\n",
       "    </tr>\n",
       "  </thead>\n",
       "  <tbody>\n",
       "    <tr>\n",
       "      <th>2</th>\n",
       "      <td>Agilent Technologies (A) Q2 Earnings and Reven...</td>\n",
       "      <td>2019-05-14</td>\n",
       "      <td>A</td>\n",
       "      <td>0</td>\n",
       "      <td>negative</td>\n",
       "      <td>0.962386</td>\n",
       "      <td>0</td>\n",
       "    </tr>\n",
       "    <tr>\n",
       "      <th>3</th>\n",
       "      <td>Agilent down 8% after hours on FQ2 miss, reven...</td>\n",
       "      <td>2019-05-14</td>\n",
       "      <td>A</td>\n",
       "      <td>0</td>\n",
       "      <td>negative</td>\n",
       "      <td>0.969427</td>\n",
       "      <td>0</td>\n",
       "    </tr>\n",
       "    <tr>\n",
       "      <th>4</th>\n",
       "      <td>Agilent misses by $0.01, misses on revenue</td>\n",
       "      <td>2019-05-14</td>\n",
       "      <td>A</td>\n",
       "      <td>0</td>\n",
       "      <td>negative</td>\n",
       "      <td>0.928350</td>\n",
       "      <td>0</td>\n",
       "    </tr>\n",
       "    <tr>\n",
       "      <th>6</th>\n",
       "      <td>Alcoa Corp. (AA) Reports Q4 Loss, Misses Reven...</td>\n",
       "      <td>2020-01-15</td>\n",
       "      <td>AA</td>\n",
       "      <td>0</td>\n",
       "      <td>negative</td>\n",
       "      <td>0.972504</td>\n",
       "      <td>0</td>\n",
       "    </tr>\n",
       "    <tr>\n",
       "      <th>9</th>\n",
       "      <td>Mmtec leads financial gainers; Enova Internati...</td>\n",
       "      <td>2019-11-15</td>\n",
       "      <td>AAME</td>\n",
       "      <td>0</td>\n",
       "      <td>positive</td>\n",
       "      <td>0.785719</td>\n",
       "      <td>1</td>\n",
       "    </tr>\n",
       "  </tbody>\n",
       "</table>\n",
       "</div>"
      ],
      "text/plain": [
       "                                            headline       date stock  label  \\\n",
       "2  Agilent Technologies (A) Q2 Earnings and Reven... 2019-05-14     A      0   \n",
       "3  Agilent down 8% after hours on FQ2 miss, reven... 2019-05-14     A      0   \n",
       "4         Agilent misses by $0.01, misses on revenue 2019-05-14     A      0   \n",
       "6  Alcoa Corp. (AA) Reports Q4 Loss, Misses Reven... 2020-01-15    AA      0   \n",
       "9  Mmtec leads financial gainers; Enova Internati... 2019-11-15  AAME      0   \n",
       "\n",
       "  sentiment  sentiment_score  sentiment_label  \n",
       "2  negative         0.962386                0  \n",
       "3  negative         0.969427                0  \n",
       "4  negative         0.928350                0  \n",
       "6  negative         0.972504                0  \n",
       "9  positive         0.785719                1  "
      ]
     },
     "execution_count": 12,
     "metadata": {},
     "output_type": "execute_result"
    }
   ],
   "source": [
    "# drop headlines with neutral sentiment labels to reduce data amount and enhance accuracy\n",
    "df.dropna(inplace=True)\n",
    "df.drop(df[df['sentiment']=='neutral'].index, inplace=True)\n",
    "df.loc[df['sentiment']=='positive', 'sentiment_label']=1\n",
    "df.loc[df['sentiment']=='negative', 'sentiment_label']=0\n",
    "df['sentiment_label'] = df['sentiment_label'].astype('int')\n",
    "print(\"There are {} news headlines in this final labels data\".format(df.shape[0]))\n",
    "df.head()"
   ]
  },
  {
   "cell_type": "code",
   "execution_count": 13,
   "id": "d535675c",
   "metadata": {},
   "outputs": [],
   "source": [
    "#df.sample(100).to_excel('Data_Example.xlsx')"
   ]
  },
  {
   "cell_type": "markdown",
   "id": "5e66977e",
   "metadata": {},
   "source": [
    "#  3 Baseline Model 1: TF-IDF + Naive Bayes Classifier\n",
    "## 3.1 Y Label - daily stock return as label"
   ]
  },
  {
   "cell_type": "code",
   "execution_count": 14,
   "id": "12db413f",
   "metadata": {},
   "outputs": [
    {
     "name": "stdout",
     "output_type": "stream",
     "text": [
      "The time range of this rawdata is from 2010-02-03 00:00:00 to 2020-06-02 00:00:00\n"
     ]
    }
   ],
   "source": [
    "# train_validate_test_split by actual dates\n",
    "start_date = min(df.date)\n",
    "end_date = max(df.date)\n",
    "print(\"The time range of this rawdata is from {} to {}\".format(start_date, end_date))\n",
    "train_period = (df['date']>='2010-02-03') & (df['date']<'2018-11-01')\n",
    "val_period = (df['date']>='2018-11-01') & (df['date']<'2019-06-02')\n",
    "test_period = (df['date']>='2019-06-02') & (df['date']<='2020-06-02')"
   ]
  },
  {
   "cell_type": "code",
   "execution_count": 15,
   "id": "004e7adf",
   "metadata": {},
   "outputs": [
    {
     "name": "stdout",
     "output_type": "stream",
     "text": [
      "The size of train, validation and test set are [6738, 1525, 3177]\n"
     ]
    }
   ],
   "source": [
    "# train_validate_test_split by actual dates\n",
    "X_train = df[train_period]['headline'].values\n",
    "X_val = df[val_period]['headline'].values\n",
    "X_test = df[test_period]['headline'].values\n",
    "\n",
    "y_train = df[train_period]['label'].values.astype('int')\n",
    "y_val = df[val_period]['label'].values.astype('int')\n",
    "y_test = df[test_period]['label'].values.astype('int')\n",
    "\n",
    "print(\"The size of train, validation and test set are\", [len(x) for x in [X_train, X_val, X_test]])"
   ]
  },
  {
   "cell_type": "markdown",
   "id": "6c75d75e",
   "metadata": {},
   "source": [
    "## 3.2 Text pre-processing and Vectorization"
   ]
  },
  {
   "cell_type": "code",
   "execution_count": 16,
   "id": "749f4288",
   "metadata": {},
   "outputs": [],
   "source": [
    "# ! pip install contractions"
   ]
  },
  {
   "cell_type": "code",
   "execution_count": 17,
   "id": "07d71245",
   "metadata": {},
   "outputs": [
    {
     "name": "stderr",
     "output_type": "stream",
     "text": [
      "[nltk_data] Downloading package wordnet to\n",
      "[nltk_data]     /Users/huangsiyang/nltk_data...\n",
      "[nltk_data]   Package wordnet is already up-to-date!\n"
     ]
    }
   ],
   "source": [
    "import contractions\n",
    "import string\n",
    "import nltk\n",
    "nltk.download('wordnet')\n",
    "\n",
    "from nltk.stem import WordNetLemmatizer\n",
    "from nltk.stem import PorterStemmer\n",
    "\n",
    "lemmatizer = WordNetLemmatizer()\n",
    "Stemmer = PorterStemmer()\n",
    "\n",
    "def lemmatize_sentence(s):\n",
    "    return \" \".join([lemmatizer.lemmatize(word) for word in s.split(' ')])\n",
    "\n",
    "def stem_sentence(s):\n",
    "    return \" \".join([Stemmer.stem(word) for word in s.split(' ')])\n",
    "\n",
    "def text_preprocessing(s):\n",
    "    # 1. Expand Contractions\n",
    "    s = contractions.fix(s)\n",
    "    # 2. Lowercase\n",
    "    s = s.lower()\n",
    "    # 3. Remove Punctuations\n",
    "    s = re.sub(r\"\\'s\", \"\", s)\n",
    "    s = re.sub('[%s]' % re.escape(string.punctuation), ' ', s)\n",
    "    # 4. Remove Digits\n",
    "    s = re.sub('\\d',' ', s)\n",
    "    # 5. Lemmatization\n",
    "    s = lemmatize_sentence(s)\n",
    "    # 6. Stemming (Not applied here to prevent some new error)\n",
    "    # s = stem_sentence(s)\n",
    "    # 7. Remove Extra Whitespace\n",
    "    s = re.sub(r'\\s+', ' ', s).strip()\n",
    "\n",
    "    return s"
   ]
  },
  {
   "cell_type": "code",
   "execution_count": 18,
   "id": "17091277",
   "metadata": {},
   "outputs": [],
   "source": [
    "from sklearn.feature_extraction.text import TfidfVectorizer\n",
    "\n",
    "# Preprocess financial news text\n",
    "X_train_preprocessed = np.array([text_preprocessing(sentence) for sentence in X_train])\n",
    "X_val_preprocessed = np.array([text_preprocessing(sentence) for sentence in X_val])\n",
    "X_test_preprocessed = np.array([text_preprocessing(sentence) for sentence in X_test])\n",
    "\n",
    "# Calculate TF-IDF Vectorizer with stop_words removed\n",
    "tf_idf = TfidfVectorizer(analyzer='word',\n",
    "                         ngram_range=(1, 3),\n",
    "                         smooth_idf=False,\n",
    "                         stop_words='english')\n",
    "X_train_tfidf = tf_idf.fit_transform(X_train_preprocessed)\n",
    "X_val_tfidf = tf_idf.transform(X_val_preprocessed)\n",
    "X_test_tfidf = tf_idf.transform(X_test_preprocessed)"
   ]
  },
  {
   "cell_type": "markdown",
   "id": "dd641a9d",
   "metadata": {},
   "source": [
    "## 3.3 Train classifier and Hyperparameter tuning with Cross validation"
   ]
  },
  {
   "cell_type": "code",
   "execution_count": 19,
   "id": "0c784325",
   "metadata": {},
   "outputs": [],
   "source": [
    "from sklearn.model_selection import StratifiedKFold, cross_val_score\n",
    "\n",
    "def get_auc_CV(model):\n",
    "    \"\"\"\n",
    "    Return the average AUC score from cross-validation.\n",
    "    \"\"\"\n",
    "    # Set KFold to shuffle data before the split\n",
    "    kf = StratifiedKFold(5, shuffle=True, random_state=1)\n",
    "\n",
    "    # Get AUC scores\n",
    "    auc = cross_val_score(\n",
    "        model, X_train_tfidf, y_train, scoring=\"roc_auc\", cv=kf)\n",
    "\n",
    "    return auc.mean()"
   ]
  },
  {
   "cell_type": "code",
   "execution_count": 20,
   "id": "1c0c81bb",
   "metadata": {},
   "outputs": [
    {
     "name": "stdout",
     "output_type": "stream",
     "text": [
      "Best alpha:  3.4\n"
     ]
    },
    {
     "data": {
      "image/png": "[encoded data removed]",
      "text/plain": [
       "<Figure size 432x288 with 1 Axes>"
      ]
     },
     "metadata": {
      "needs_background": "light"
     },
     "output_type": "display_data"
    },
    {
     "name": "stdout",
     "output_type": "stream",
     "text": [
      "Total # of the train cases is 6738.\n"
     ]
    }
   ],
   "source": [
    "from sklearn.naive_bayes import MultinomialNB\n",
    "\n",
    "res = pd.Series([get_auc_CV(MultinomialNB(alpha=i)) for i in np.arange(0.1, 10, 0.1)], index=np.arange(0.1, 10, 0.1))\n",
    "\n",
    "best_alpha = np.round(res.idxmax(), 2)\n",
    "print('Best alpha: ', best_alpha)\n",
    "\n",
    "plt.plot(res)\n",
    "plt.title('AUC vs. Alpha')\n",
    "plt.xlabel('Alpha')\n",
    "plt.ylabel('AUC')\n",
    "plt.show()\n",
    "\n",
    "# debug / info\n",
    "print(\"Total # of the train cases is {}.\".format(len(y_train)))"
   ]
  },
  {
   "cell_type": "markdown",
   "id": "78d1de10",
   "metadata": {},
   "source": [
    "## 3.4 Evaluation on Validation Set"
   ]
  },
  {
   "cell_type": "code",
   "execution_count": 21,
   "id": "a8dab5c8",
   "metadata": {},
   "outputs": [],
   "source": [
    "from sklearn.metrics import accuracy_score, roc_curve, auc\n",
    "\n",
    "def evaluate_roc(probs, y_true):\n",
    "    \"\"\"\n",
    "    - Print AUC and accuracy on the test set\n",
    "    - Plot ROC\n",
    "    @params    probs (np.array): an array of predicted probabilities with shape (len(y_true), 2)\n",
    "    @params    y_true (np.array): an array of the true values with shape (len(y_true),)\n",
    "    \"\"\"\n",
    "    preds = probs[:, 1]\n",
    "    fpr, tpr, threshold = roc_curve(y_true, preds)\n",
    "    roc_auc = auc(fpr, tpr)\n",
    "    print(f'AUC: {roc_auc:.4f}')\n",
    "       \n",
    "    # Get accuracy over the test set\n",
    "    y_pred = np.where(preds >= 0.5, 1, 0)\n",
    "    accuracy = accuracy_score(y_true, y_pred)\n",
    "    print(f'Accuracy: {accuracy*100:.2f}%')\n",
    "    \n",
    "    # Plot ROC AUC\n",
    "    plt.title('Receiver Operating Characteristic')\n",
    "    plt.plot(fpr, tpr, 'b', label = 'AUC = %0.2f' % roc_auc)\n",
    "    plt.legend(loc = 'lower right')\n",
    "    plt.plot([0, 1], [0, 1],'r--')\n",
    "    plt.xlim([0, 1])\n",
    "    plt.ylim([0, 1])\n",
    "    plt.ylabel('True Positive Rate')\n",
    "    plt.xlabel('False Positive Rate')\n",
    "    plt.show()\n",
    "    \n",
    "    # debug / info\n",
    "    print(\"Total # of the validation cases is {}.\".format(len(y_val)))"
   ]
  },
  {
   "cell_type": "code",
   "execution_count": 22,
   "id": "882a7c2a",
   "metadata": {},
   "outputs": [
    {
     "name": "stdout",
     "output_type": "stream",
     "text": [
      "alpha = 3.4\n",
      "AUC: 0.6516\n",
      "Accuracy: 57.97%\n"
     ]
    },
    {
     "data": {
      "image/png": "[encoded data removed]",
      "text/plain": [
       "<Figure size 432x288 with 1 Axes>"
      ]
     },
     "metadata": {
      "needs_background": "light"
     },
     "output_type": "display_data"
    },
    {
     "name": "stdout",
     "output_type": "stream",
     "text": [
      "Total # of the validation cases is 1525.\n"
     ]
    }
   ],
   "source": [
    "# Compute predicted probabilities\n",
    "nb_model = MultinomialNB(alpha=3.4)\n",
    "nb_model.fit(X_train_tfidf, y_train)\n",
    "probs = nb_model.predict_proba(X_val_tfidf)\n",
    "\n",
    "# Evaluate the classifier\n",
    "print('alpha = 3.4')\n",
    "evaluate_roc(probs, y_val)"
   ]
  },
  {
   "cell_type": "markdown",
   "id": "8ea2b4d4",
   "metadata": {},
   "source": [
    "## 3.5 Report on Test Set"
   ]
  },
  {
   "cell_type": "code",
   "execution_count": 23,
   "id": "1a92e70c",
   "metadata": {},
   "outputs": [],
   "source": [
    "# Some quantitative test functions\n",
    "def calculate_confusion_matrix_and_report(y_predicted, y_golden, with_plot=True):\n",
    "    \"\"\"\n",
    "        Returns the confusion matrix with plot and a quantitative assessment of model performances\n",
    "        For now, we just re-use the built-in classification_report from sklearn\n",
    "    \"\"\"\n",
    "    from sklearn.metrics import confusion_matrix, classification_report\n",
    "    import pandas as pd\n",
    "\n",
    "    # calculate confusion matrix\n",
    "    cm = confusion_matrix(y_golden, y_predicted)\n",
    "    # plot the matrix\n",
    "    if with_plot:\n",
    "        plot_confusion_matrix(cm)\n",
    "    # build a readable report\n",
    "    class_rpt = classification_report(y_golden, y_predicted, output_dict=True)\n",
    "    class_rpt = pd.DataFrame(class_rpt).transpose()\n",
    "    class_rpt.index.name = 'Labels & Scores'\n",
    "\n",
    "    # print out the confusion matrix and classification report\n",
    "    print('\\n====== Confusion Matrix ======')\n",
    "    print(cm)\n",
    "    print('\\n====== Classification Report ======')\n",
    "    print(class_rpt)\n",
    "\n",
    "    return cm, class_rpt\n",
    "\n",
    "\n",
    "def plot_confusion_matrix(c_matrix):\n",
    "    import matplotlib.pyplot as plt\n",
    "    plt.imshow(c_matrix, cmap='Purples')\n",
    "    plt.xlabel(\"Predicted labels\")\n",
    "    plt.ylabel(\"True labels\")\n",
    "    plt.xticks([], [])\n",
    "    plt.yticks([], [])\n",
    "    plt.title(\"Confusion matrix\")\n",
    "    plt.colorbar()\n",
    "    plt.show()\n",
    "\n",
    "    return"
   ]
  },
  {
   "cell_type": "code",
   "execution_count": 24,
   "id": "6b824e3f",
   "metadata": {
    "scrolled": false
   },
   "outputs": [
    {
     "data": {
      "image/png": "[encoded data removed]",
      "text/plain": [
       "<Figure size 432x288 with 2 Axes>"
      ]
     },
     "metadata": {
      "needs_background": "light"
     },
     "output_type": "display_data"
    },
    {
     "name": "stdout",
     "output_type": "stream",
     "text": [
      "\n",
      "====== Confusion Matrix ======\n",
      "[[ 694  925]\n",
      " [ 479 1079]]\n",
      "\n",
      "====== Classification Report ======\n",
      "                 precision    recall  f1-score      support\n",
      "Labels & Scores                                            \n",
      "0                 0.591645  0.428660  0.497135  1619.000000\n",
      "1                 0.538423  0.692555  0.605839  1558.000000\n",
      "accuracy          0.558074  0.558074  0.558074     0.558074\n",
      "macro avg         0.565034  0.560607  0.551487  3177.000000\n",
      "weighted avg      0.565545  0.558074  0.550443  3177.000000\n",
      "Total # of the test cases is 3177.\n"
     ]
    }
   ],
   "source": [
    "y_predicted = nb_model.predict(X_test_tfidf)\n",
    "confusion_matrix, class_report = calculate_confusion_matrix_and_report(y_predicted, y_test)\n",
    "# debug / info\n",
    "print(\"Total # of the test cases is {}.\".format(len(y_test)))"
   ]
  },
  {
   "cell_type": "markdown",
   "id": "cb286c37",
   "metadata": {},
   "source": [
    "# 4 Baseline Model 2: TF-IDF + Naive Bayes Classifier\n",
    "## 4.1 Y Label - sentiment analysis as label"
   ]
  },
  {
   "cell_type": "code",
   "execution_count": 25,
   "id": "c41a4f86",
   "metadata": {},
   "outputs": [
    {
     "name": "stdout",
     "output_type": "stream",
     "text": [
      "The size of train, validation and test set are [6738, 1525, 3177]\n"
     ]
    }
   ],
   "source": [
    "# train_validate_test_split by actual dates\n",
    "X_train = df[train_period]['headline'].values\n",
    "X_val = df[val_period]['headline'].values\n",
    "X_test = df[test_period]['headline'].values\n",
    "\n",
    "y_train = df[train_period]['sentiment_label'].values.astype('int')\n",
    "y_val = df[val_period]['sentiment_label'].values.astype('int')\n",
    "y_test = df[test_period]['sentiment_label'].values.astype('int')\n",
    "\n",
    "print(\"The size of train, validation and test set are\", [len(x) for x in [X_train, X_val, X_test]])"
   ]
  },
  {
   "cell_type": "markdown",
   "id": "58187dd7",
   "metadata": {},
   "source": [
    "## 4.2 Train Classifier and Hyperparameter tuning with Cross validation"
   ]
  },
  {
   "cell_type": "code",
   "execution_count": 26,
   "id": "7d76662a",
   "metadata": {},
   "outputs": [
    {
     "name": "stdout",
     "output_type": "stream",
     "text": [
      "Best alpha:  0.7\n"
     ]
    },
    {
     "data": {
      "image/png": "[encoded data removed]",
      "text/plain": [
       "<Figure size 432x288 with 1 Axes>"
      ]
     },
     "metadata": {
      "needs_background": "light"
     },
     "output_type": "display_data"
    },
    {
     "name": "stdout",
     "output_type": "stream",
     "text": [
      "Total # of the train cases is 6738.\n"
     ]
    }
   ],
   "source": [
    "from sklearn.naive_bayes import MultinomialNB\n",
    "\n",
    "res = pd.Series([get_auc_CV(MultinomialNB(alpha=i)) for i in np.arange(0.1, 10, 0.1)], index=np.arange(0.1, 10, 0.1))\n",
    "\n",
    "best_alpha = np.round(res.idxmax(), 2)\n",
    "print('Best alpha: ', best_alpha)\n",
    "\n",
    "plt.plot(res)\n",
    "plt.title('AUC vs. Alpha')\n",
    "plt.xlabel('Alpha')\n",
    "plt.ylabel('AUC')\n",
    "plt.show()\n",
    "\n",
    "# debug / info\n",
    "print(\"Total # of the train cases is {}.\".format(len(y_train)))"
   ]
  },
  {
   "cell_type": "markdown",
   "id": "644ac93b",
   "metadata": {},
   "source": [
    "## 4.3 Evaluation on Validation Set"
   ]
  },
  {
   "cell_type": "code",
   "execution_count": 27,
   "id": "f77715a8",
   "metadata": {},
   "outputs": [
    {
     "name": "stdout",
     "output_type": "stream",
     "text": [
      "alpha = 0.7\n",
      "AUC: 0.9423\n",
      "Accuracy: 86.56%\n"
     ]
    },
    {
     "data": {
      "image/png": "[encoded data removed]",
      "text/plain": [
       "<Figure size 432x288 with 1 Axes>"
      ]
     },
     "metadata": {
      "needs_background": "light"
     },
     "output_type": "display_data"
    },
    {
     "name": "stdout",
     "output_type": "stream",
     "text": [
      "Total # of the validation cases is 1525.\n"
     ]
    }
   ],
   "source": [
    "# Compute predicted probabilities\n",
    "nb_model = MultinomialNB(alpha=0.7)\n",
    "nb_model.fit(X_train_tfidf, y_train)\n",
    "probs = nb_model.predict_proba(X_val_tfidf)\n",
    "\n",
    "# Evaluate the classifier\n",
    "print('alpha = 0.7')\n",
    "evaluate_roc(probs, y_val)"
   ]
  },
  {
   "cell_type": "markdown",
   "id": "987b1c0e",
   "metadata": {},
   "source": [
    "## 4.4 Report on Test Set"
   ]
  },
  {
   "cell_type": "code",
   "execution_count": 28,
   "id": "658c8dfd",
   "metadata": {},
   "outputs": [
    {
     "data": {
      "image/png": "[encoded data removed]",
      "text/plain": [
       "<Figure size 432x288 with 2 Axes>"
      ]
     },
     "metadata": {
      "needs_background": "light"
     },
     "output_type": "display_data"
    },
    {
     "name": "stdout",
     "output_type": "stream",
     "text": [
      "\n",
      "====== Confusion Matrix ======\n",
      "[[ 963  423]\n",
      " [ 231 1560]]\n",
      "\n",
      "====== Classification Report ======\n",
      "                 precision    recall  f1-score      support\n",
      "Labels & Scores                                            \n",
      "0                 0.806533  0.694805  0.746512  1386.000000\n",
      "1                 0.786687  0.871022  0.826709  1791.000000\n",
      "accuracy          0.794145  0.794145  0.794145     0.794145\n",
      "macro avg         0.796610  0.782913  0.786610  3177.000000\n",
      "weighted avg      0.795345  0.794145  0.791722  3177.000000\n",
      "Total # of the test cases is 3177.\n"
     ]
    }
   ],
   "source": [
    "y_predicted = nb_model.predict(X_test_tfidf)\n",
    "y_prob_nb_model = nb_model.predict_proba(X_test_tfidf)[:,1]\n",
    "\n",
    "confusion_matrix, class_report = calculate_confusion_matrix_and_report(y_predicted, y_test)\n",
    "# debug / info\n",
    "print(\"Total # of the test cases is {}.\".format(len(y_test)))"
   ]
  },
  {
   "cell_type": "code",
   "execution_count": 29,
   "id": "c232977a",
   "metadata": {},
   "outputs": [],
   "source": [
    "# from tqdm import tqdm\n",
    "# from sklearn.metrics import f1_score\n",
    "\n",
    "# def threshold_search(y_true, y_proba):\n",
    "#     best_threshold = 0\n",
    "#     best_score = 0\n",
    "#     for threshold in tqdm([i * 0.01 for i in range(100)], disable=True):\n",
    "#         score = f1_score(y_true=y_true, y_pred=y_proba > threshold)\n",
    "#         if score > best_score:\n",
    "#             best_threshold = threshold\n",
    "#             best_score = score\n",
    "#     search_result = {'threshold': best_threshold, 'f1': best_score}\n",
    "#     return search_result\n",
    "\n",
    "# y_probs = nb_model.predict_proba(X_test_tfidf)[:,1]\n",
    "# threshold_search(y_test, y_probs)\n",
    "\n",
    "# y_predicted = (y_probs > 0.7).astype(int)\n",
    "# calculate_confusion_matrix_and_report(y_predicted, y_test)"
   ]
  },
  {
   "cell_type": "markdown",
   "id": "1abe397c",
   "metadata": {},
   "source": [
    "# 5 BERT Model 1: SentenceTransformer + Random Forest\n",
    "## 5.1 Y Label - daily stock return as label"
   ]
  },
  {
   "cell_type": "code",
   "execution_count": 30,
   "id": "ec58d4ce",
   "metadata": {},
   "outputs": [
    {
     "name": "stdout",
     "output_type": "stream",
     "text": [
      "The size of train, validation and test set are [6738, 1525, 3177]\n"
     ]
    }
   ],
   "source": [
    "# train_validate_test_split by actual dates\n",
    "X_train = df[train_period]['headline'].values\n",
    "X_val = df[val_period]['headline'].values\n",
    "X_test = df[test_period]['headline'].values\n",
    "\n",
    "y_train = df[train_period]['label'].values.astype('int')\n",
    "y_val = df[val_period]['label'].values.astype('int')\n",
    "y_test = df[test_period]['label'].values.astype('int')\n",
    "\n",
    "print(\"The size of train, validation and test set are\", [len(x) for x in [X_train, X_val, X_test]])"
   ]
  },
  {
   "cell_type": "markdown",
   "id": "5618b004",
   "metadata": {},
   "source": [
    "## 5.2 Transform X (headlines) using pretrained BERT into vectors"
   ]
  },
  {
   "cell_type": "code",
   "execution_count": 31,
   "id": "372e0698",
   "metadata": {},
   "outputs": [
    {
     "name": "stdout",
     "output_type": "stream",
     "text": [
      "<Read bert_w2vec_X_val from local file>\n"
     ]
    }
   ],
   "source": [
    "import os\n",
    "import pickle\n",
    "Final_Folder = os.getcwd()\n",
    "if os.path.exists('bert_w2vec_X_val.pkl'):\n",
    "    Re_Transform = 0\n",
    "    print(\"<Read bert_w2vec_X_val from local file>\")\n",
    "else:\n",
    "    Re_Transform = 1\n",
    "    print(\"<Re-Transform bert_w2vec_X_val needed>\")"
   ]
  },
  {
   "cell_type": "code",
   "execution_count": 32,
   "id": "d5eaaa80",
   "metadata": {},
   "outputs": [],
   "source": [
    "# Some sentence processing and vectorizing function\n",
    "def bert_sentence_encoding(sentences, model):\n",
    "    embedded_sentences = model.encode(sentences)\n",
    "    return embedded_sentences\n",
    "\n",
    "def bert_w2vec_X(X, sentence_model, Final_Folder: str, X_type: str):\n",
    "    import pickle\n",
    "    bert_w2vec_X = np.array(bert_sentence_encoding(X, sentence_model))\n",
    "    pickle.dump(bert_w2vec_X, open(os.path.join(Final_Folder, f'bert_w2vec_X_{X_type}.pkl'), 'wb+'))\n",
    "    print(f\"bert_w2vec_X_{X_type} vectorize finished\")\n",
    "    return bert_w2vec_X"
   ]
  },
  {
   "cell_type": "code",
   "execution_count": 33,
   "id": "aad0146b",
   "metadata": {},
   "outputs": [
    {
     "name": "stdout",
     "output_type": "stream",
     "text": [
      "<Read BERT pkl from local file>\n",
      "Shapes of bert_w2vec_X_train, bert_w2vec_X_test and bert_w2vec_X_val are: (6738, 384), (3177, 384) and (1525, 384).\n"
     ]
    }
   ],
   "source": [
    "from sentence_transformers import SentenceTransformer\n",
    "\n",
    "# load local bert vector data\n",
    "if Re_Transform == 0:\n",
    "    print('<Read BERT pkl from local file>')\n",
    "    bert_w2vec_X_train = pickle.load(open(os.path.join(Final_Folder,'bert_w2vec_X_train.pkl'), 'rb+'))\n",
    "    bert_w2vec_X_test = pickle.load(open(os.path.join(Final_Folder,'bert_w2vec_X_test.pkl'), 'rb+'))\n",
    "    bert_w2vec_X_val = pickle.load(open(os.path.join(Final_Folder,'bert_w2vec_X_val.pkl'), 'rb+'))\n",
    "# recalculate bert vector data and dump pickle\n",
    "else:\n",
    "    print('<Reproduce BERT pkl and save to file>')\n",
    "    sentence_model = SentenceTransformer('all-MiniLM-L6-v2')\n",
    "    bert_w2vec_X_train = bert_w2vec_X(X_train, sentence_model, Final_Folder, \"train\")\n",
    "    bert_w2vec_X_test = bert_w2vec_X(X_test, sentence_model, Final_Folder, \"test\")\n",
    "    bert_w2vec_X_val = bert_w2vec_X(X_val, sentence_model, Final_Folder, \"val\")\n",
    "# debug / info\n",
    "print(\"Shapes of bert_w2vec_X_train, bert_w2vec_X_test and bert_w2vec_X_val are: \"\n",
    "      \"{}, {} and {}.\".format(bert_w2vec_X_train.shape, bert_w2vec_X_test.shape, bert_w2vec_X_val.shape))"
   ]
  },
  {
   "cell_type": "markdown",
   "id": "336efa44",
   "metadata": {},
   "source": [
    "## 5.3 Train classifier and Hyperparameter tuning with Cross Validation"
   ]
  },
  {
   "cell_type": "code",
   "execution_count": 34,
   "id": "3f9ffa5a",
   "metadata": {},
   "outputs": [],
   "source": [
    "from sklearn.model_selection import StratifiedKFold, cross_val_score\n",
    "\n",
    "def get_auc_CV(model):\n",
    "    \"\"\"\n",
    "    Return the average AUC score from cross-validation.\n",
    "    \"\"\"\n",
    "    # Set KFold to shuffle data before the split\n",
    "    kf = StratifiedKFold(5, shuffle=True, random_state=1)\n",
    "\n",
    "    # Get AUC scores\n",
    "    auc = cross_val_score(model, bert_w2vec_X_train, y_train, scoring=\"roc_auc\", cv=kf)\n",
    "\n",
    "    return auc.mean()"
   ]
  },
  {
   "cell_type": "code",
   "execution_count": 35,
   "id": "8ff7919a",
   "metadata": {},
   "outputs": [
    {
     "name": "stdout",
     "output_type": "stream",
     "text": [
      "Best max_depth:  5\n"
     ]
    },
    {
     "data": {
      "image/png": "[encoded data removed]",
      "text/plain": [
       "<Figure size 432x288 with 1 Axes>"
      ]
     },
     "metadata": {
      "needs_background": "light"
     },
     "output_type": "display_data"
    },
    {
     "name": "stdout",
     "output_type": "stream",
     "text": [
      "Total # of the train cases is 6738.\n"
     ]
    }
   ],
   "source": [
    "from sklearn.ensemble import RandomForestClassifier\n",
    "import sklearn.metrics\n",
    "\n",
    "res = []\n",
    "for i in np.arange(5,55,5):\n",
    "    model = RandomForestClassifier(n_estimators=200, max_depth=i, random_state=0, n_jobs=-1)\n",
    "    res.append(get_auc_CV(model))\n",
    "res = pd.Series(res, index=np.arange(5,55,5))\n",
    "\n",
    "best_max_depth = np.round(res.idxmax(), 2)\n",
    "print('Best max_depth: ', best_max_depth)\n",
    "\n",
    "plt.plot(res)\n",
    "plt.title('AUC vs. max_depth')\n",
    "plt.xlabel('max_depth')\n",
    "plt.ylabel('AUC')\n",
    "plt.show()\n",
    "\n",
    "# debug / info\n",
    "print(\"Total # of the train cases is {}.\".format(len(y_train)))"
   ]
  },
  {
   "cell_type": "code",
   "execution_count": 36,
   "id": "3079e591",
   "metadata": {},
   "outputs": [
    {
     "name": "stdout",
     "output_type": "stream",
     "text": [
      "Best n_estimators:  300\n"
     ]
    },
    {
     "data": {
      "image/png": "[encoded data removed]",
      "text/plain": [
       "<Figure size 432x288 with 1 Axes>"
      ]
     },
     "metadata": {
      "needs_background": "light"
     },
     "output_type": "display_data"
    },
    {
     "name": "stdout",
     "output_type": "stream",
     "text": [
      "Total # of the train cases is 6738.\n"
     ]
    }
   ],
   "source": [
    "from sklearn.ensemble import RandomForestClassifier\n",
    "import sklearn.metrics\n",
    "\n",
    "res = []\n",
    "for i in np.arange(100, 350, 50):\n",
    "    model = RandomForestClassifier(n_estimators=i, max_depth=20, random_state=0, n_jobs=-1)\n",
    "    res.append(get_auc_CV(model))\n",
    "res = pd.Series(res, index=np.arange(100, 350, 50))\n",
    "\n",
    "best_max_depth = np.round(res.idxmax(), 2)\n",
    "print('Best n_estimators: ', best_max_depth)\n",
    "\n",
    "plt.plot(res)\n",
    "plt.title('AUC vs. n_estimators')\n",
    "plt.xlabel('n_estimators')\n",
    "plt.ylabel('AUC')\n",
    "plt.show()\n",
    "\n",
    "# debug / info\n",
    "print(\"Total # of the train cases is {}.\".format(len(y_train)))"
   ]
  },
  {
   "cell_type": "markdown",
   "id": "c716c6e9",
   "metadata": {},
   "source": [
    "## 5.4 Evaluation on Validation Set"
   ]
  },
  {
   "cell_type": "code",
   "execution_count": 37,
   "id": "d3dad510",
   "metadata": {},
   "outputs": [
    {
     "name": "stdout",
     "output_type": "stream",
     "text": [
      "n_estimators=300, max_depth=5\n",
      "AUC: 0.6380\n",
      "Accuracy: 58.43%\n"
     ]
    },
    {
     "data": {
      "image/png": "[encoded data removed]",
      "text/plain": [
       "<Figure size 432x288 with 1 Axes>"
      ]
     },
     "metadata": {
      "needs_background": "light"
     },
     "output_type": "display_data"
    },
    {
     "name": "stdout",
     "output_type": "stream",
     "text": [
      "Total # of the validation cases is 1525.\n"
     ]
    }
   ],
   "source": [
    "# Compute predicted probabilities\n",
    "rf_model = RandomForestClassifier(n_estimators=300, max_depth=5, random_state=0, n_jobs=-1)\n",
    "rf_model.fit(bert_w2vec_X_train, y_train)\n",
    "probs = rf_model.predict_proba(bert_w2vec_X_val)\n",
    "\n",
    "# Evaluate the classifier\n",
    "print('n_estimators=300, max_depth=5')\n",
    "evaluate_roc(probs, y_val)"
   ]
  },
  {
   "cell_type": "markdown",
   "id": "2fadf87e",
   "metadata": {},
   "source": [
    "## 5.5 Report on Test Set"
   ]
  },
  {
   "cell_type": "code",
   "execution_count": 38,
   "id": "7364ddda",
   "metadata": {},
   "outputs": [
    {
     "data": {
      "image/png": "[encoded data removed]",
      "text/plain": [
       "<Figure size 432x288 with 2 Axes>"
      ]
     },
     "metadata": {
      "needs_background": "light"
     },
     "output_type": "display_data"
    },
    {
     "name": "stdout",
     "output_type": "stream",
     "text": [
      "\n",
      "====== Confusion Matrix ======\n",
      "[[ 701  918]\n",
      " [ 506 1052]]\n",
      "\n",
      "====== Classification Report ======\n",
      "                 precision    recall  f1-score      support\n",
      "Labels & Scores                                            \n",
      "0                 0.580779  0.432983  0.496108  1619.000000\n",
      "1                 0.534010  0.675225  0.596372  1558.000000\n",
      "accuracy          0.551778  0.551778  0.551778     0.551778\n",
      "macro avg         0.557394  0.554104  0.546240  3177.000000\n",
      "weighted avg      0.557843  0.551778  0.545277  3177.000000\n",
      "Total # of the test cases is 3177.\n"
     ]
    }
   ],
   "source": [
    "y_predicted = rf_model.predict(bert_w2vec_X_test)\n",
    "confusion_matrix, class_report = calculate_confusion_matrix_and_report(y_predicted, y_test)\n",
    "# debug / info\n",
    "print(\"Total # of the test cases is {}.\".format(len(y_test)))"
   ]
  },
  {
   "cell_type": "markdown",
   "id": "c0f2758f",
   "metadata": {},
   "source": [
    "# 6 BERT Model 2: SentenceTransformer + Random Forest\n",
    "## 6.1 Y Label - sentiment analysis as label"
   ]
  },
  {
   "cell_type": "code",
   "execution_count": 39,
   "id": "794e5109",
   "metadata": {},
   "outputs": [
    {
     "name": "stdout",
     "output_type": "stream",
     "text": [
      "The size of train, validation and test set are [6738, 1525, 3177]\n"
     ]
    }
   ],
   "source": [
    "# train_validate_test_split by actual dates\n",
    "X_train = df[train_period]['headline'].values\n",
    "X_val = df[val_period]['headline'].values\n",
    "X_test = df[test_period]['headline'].values\n",
    "\n",
    "y_train = df[train_period]['sentiment_label'].values.astype('int')\n",
    "y_val = df[val_period]['sentiment_label'].values.astype('int')\n",
    "y_test = df[test_period]['sentiment_label'].values.astype('int')\n",
    "\n",
    "print(\"The size of train, validation and test set are\", [len(x) for x in [X_train, X_val, X_test]])"
   ]
  },
  {
   "cell_type": "markdown",
   "id": "8f8fe4dc",
   "metadata": {},
   "source": [
    "## 6.2 Train classifier and Hyperparameter tuning with Cross Validation"
   ]
  },
  {
   "cell_type": "code",
   "execution_count": 40,
   "id": "ec02ef38",
   "metadata": {},
   "outputs": [
    {
     "name": "stdout",
     "output_type": "stream",
     "text": [
      "Best max_depth:  15\n"
     ]
    },
    {
     "data": {
      "image/png": "[encoded data removed]",
      "text/plain": [
       "<Figure size 432x288 with 1 Axes>"
      ]
     },
     "metadata": {
      "needs_background": "light"
     },
     "output_type": "display_data"
    },
    {
     "name": "stdout",
     "output_type": "stream",
     "text": [
      "Total # of the train cases is 6738.\n"
     ]
    }
   ],
   "source": [
    "from sklearn.ensemble import RandomForestClassifier\n",
    "import sklearn.metrics\n",
    "\n",
    "res = []\n",
    "for i in np.arange(5,35,5):\n",
    "    model = RandomForestClassifier(n_estimators=200, max_depth=i, random_state=0, n_jobs=-1)\n",
    "    res.append(get_auc_CV(model))\n",
    "res = pd.Series(res, index=np.arange(5,35,5))\n",
    "\n",
    "best_max_depth = np.round(res.idxmax(), 2)\n",
    "print('Best max_depth: ', best_max_depth)\n",
    "\n",
    "plt.plot(res)\n",
    "plt.title('AUC vs. max_depth')\n",
    "plt.xlabel('max_depth')\n",
    "plt.ylabel('AUC')\n",
    "plt.show()\n",
    "\n",
    "# debug / info\n",
    "print(\"Total # of the train cases is {}.\".format(len(y_train)))"
   ]
  },
  {
   "cell_type": "code",
   "execution_count": 41,
   "id": "256de892",
   "metadata": {},
   "outputs": [
    {
     "name": "stdout",
     "output_type": "stream",
     "text": [
      "Best n_estimators:  300\n"
     ]
    },
    {
     "data": {
      "image/png": "[encoded data removed]",
      "text/plain": [
       "<Figure size 432x288 with 1 Axes>"
      ]
     },
     "metadata": {
      "needs_background": "light"
     },
     "output_type": "display_data"
    },
    {
     "name": "stdout",
     "output_type": "stream",
     "text": [
      "Total # of the train cases is 6738.\n"
     ]
    }
   ],
   "source": [
    "from sklearn.ensemble import RandomForestClassifier\n",
    "import sklearn.metrics\n",
    "\n",
    "res = []\n",
    "for i in np.arange(100, 350, 100):\n",
    "    model = RandomForestClassifier(n_estimators=i, max_depth=20, random_state=0, n_jobs=-1)\n",
    "    res.append(get_auc_CV(model))\n",
    "res = pd.Series(res, index=np.arange(100, 350, 100))\n",
    "\n",
    "best_max_depth = np.round(res.idxmax(), 2)\n",
    "print('Best n_estimators: ', best_max_depth)\n",
    "\n",
    "plt.plot(res)\n",
    "plt.title('AUC vs. n_estimators')\n",
    "plt.xlabel('n_estimators')\n",
    "plt.ylabel('AUC')\n",
    "plt.show()\n",
    "\n",
    "# debug / info\n",
    "print(\"Total # of the train cases is {}.\".format(len(y_train)))"
   ]
  },
  {
   "cell_type": "markdown",
   "id": "d1a3b68a",
   "metadata": {},
   "source": [
    "## 6.3 Evaluation on Validation Set"
   ]
  },
  {
   "cell_type": "code",
   "execution_count": 42,
   "id": "d9109825",
   "metadata": {},
   "outputs": [
    {
     "name": "stdout",
     "output_type": "stream",
     "text": [
      "n_estimators=300, max_depth=15\n",
      "AUC: 0.9441\n",
      "Accuracy: 88.39%\n"
     ]
    },
    {
     "data": {
      "image/png": "[encoded data removed]",
      "text/plain": [
       "<Figure size 432x288 with 1 Axes>"
      ]
     },
     "metadata": {
      "needs_background": "light"
     },
     "output_type": "display_data"
    },
    {
     "name": "stdout",
     "output_type": "stream",
     "text": [
      "Total # of the validation cases is 1525.\n"
     ]
    }
   ],
   "source": [
    "# Compute predicted probabilities\n",
    "from sklearn.ensemble import RandomForestClassifier\n",
    "rf_model = RandomForestClassifier(n_estimators=300, max_depth=15, random_state=0, n_jobs=-1)\n",
    "rf_model.fit(bert_w2vec_X_train, y_train)\n",
    "probs = rf_model.predict_proba(bert_w2vec_X_val)\n",
    "\n",
    "# Evaluate the classifier\n",
    "print('n_estimators=300, max_depth=15')\n",
    "evaluate_roc(probs, y_val)"
   ]
  },
  {
   "cell_type": "markdown",
   "id": "90b519eb",
   "metadata": {},
   "source": [
    "## 6.4 Report on Test Set"
   ]
  },
  {
   "cell_type": "code",
   "execution_count": 43,
   "id": "2cc2a533",
   "metadata": {},
   "outputs": [
    {
     "data": {
      "image/png": "[encoded data removed]",
      "text/plain": [
       "<Figure size 432x288 with 2 Axes>"
      ]
     },
     "metadata": {
      "needs_background": "light"
     },
     "output_type": "display_data"
    },
    {
     "name": "stdout",
     "output_type": "stream",
     "text": [
      "\n",
      "====== Confusion Matrix ======\n",
      "[[1122  264]\n",
      " [ 263 1528]]\n",
      "\n",
      "====== Classification Report ======\n",
      "                 precision    recall  f1-score     support\n",
      "Labels & Scores                                           \n",
      "0                 0.810108  0.809524  0.809816  1386.00000\n",
      "1                 0.852679  0.853155  0.852917  1791.00000\n",
      "accuracy          0.834120  0.834120  0.834120     0.83412\n",
      "macro avg         0.831393  0.831339  0.831366  3177.00000\n",
      "weighted avg      0.834107  0.834120  0.834113  3177.00000\n",
      "Total # of the test cases is 3177.\n"
     ]
    }
   ],
   "source": [
    "y_predict = rf_model.predict(bert_w2vec_X_test)\n",
    "y_prob_rf_model = rf_model.predict_proba(bert_w2vec_X_test)[:,1]\n",
    "confusion_matrix, class_report = calculate_confusion_matrix_and_report(y_predict, y_test)\n",
    "# debug / info\n",
    "print(\"Total # of the test cases is {}.\".format(len(y_test)))"
   ]
  },
  {
   "cell_type": "markdown",
   "id": "d028cfc9",
   "metadata": {},
   "source": [
    "# 7 Try some other models on Label Type II"
   ]
  },
  {
   "cell_type": "markdown",
   "id": "c73dbb36",
   "metadata": {},
   "source": [
    "## 7.1 Logistic regression"
   ]
  },
  {
   "cell_type": "code",
   "execution_count": 44,
   "id": "1eda7dfb",
   "metadata": {},
   "outputs": [
    {
     "name": "stdout",
     "output_type": "stream",
     "text": [
      "accuracy =  0.8681145734970097\n",
      "auc =  0.8669556295184436\n"
     ]
    }
   ],
   "source": [
    "# BERT\n",
    "from sklearn.linear_model import LogisticRegression\n",
    "from sklearn.metrics import roc_auc_score, auc\n",
    "\n",
    "lr = LogisticRegression(random_state = 0, n_jobs = -1, solver = 'lbfgs')\n",
    "lr.fit(bert_w2vec_X_train, y_train)\n",
    "y_predict = lr.predict(bert_w2vec_X_test)\n",
    "y_prob_lr = lr.predict_proba(bert_w2vec_X_test)[:,1]\n",
    "print('accuracy = ', accuracy_score(y_test, y_predict))\n",
    "print('auc = ', roc_auc_score(y_test, y_predict))"
   ]
  },
  {
   "cell_type": "code",
   "execution_count": 45,
   "id": "689ceb2b",
   "metadata": {},
   "outputs": [
    {
     "name": "stdout",
     "output_type": "stream",
     "text": [
      "accuracy =  0.8016997167138811\n",
      "auc =  0.7982607844416891\n"
     ]
    }
   ],
   "source": [
    "# TF_IDF\n",
    "from sklearn.linear_model import LogisticRegression\n",
    "from sklearn.metrics import roc_auc_score, auc\n",
    "\n",
    "lr = LogisticRegression(random_state = 0, n_jobs = -1, solver = 'lbfgs')\n",
    "lr.fit(X_train_tfidf, y_train)\n",
    "y_predict = lr.predict(X_test_tfidf)\n",
    "\n",
    "print('accuracy = ', accuracy_score(y_test, y_predict))\n",
    "print('auc = ', roc_auc_score(y_test, y_predict))"
   ]
  },
  {
   "cell_type": "markdown",
   "id": "d68683c6",
   "metadata": {},
   "source": [
    "## 7.2 Gaussian naive bayes"
   ]
  },
  {
   "cell_type": "code",
   "execution_count": 46,
   "id": "e21fff67",
   "metadata": {},
   "outputs": [
    {
     "name": "stdout",
     "output_type": "stream",
     "text": [
      "accuracy =  0.7031790997796663\n",
      "auc =  0.7112057401002124\n"
     ]
    }
   ],
   "source": [
    "# TF_IDF\n",
    "from sklearn.naive_bayes import GaussianNB\n",
    "nb = GaussianNB()\n",
    "nb.fit(X_train_tfidf.toarray(), y_train)\n",
    "y_predict = nb.predict(X_test_tfidf.toarray())\n",
    "y_prob_nb = nb.predict_proba(X_test_tfidf.toarray())[:,1]\n",
    "print('accuracy = ', accuracy_score(y_test, y_predict))\n",
    "print('auc = ', roc_auc_score(y_test, y_predict))"
   ]
  },
  {
   "cell_type": "code",
   "execution_count": 47,
   "id": "0cbba482",
   "metadata": {},
   "outputs": [
    {
     "name": "stdout",
     "output_type": "stream",
     "text": [
      "accuracy =  0.6474661630468996\n",
      "auc =  0.6742732421124381\n"
     ]
    }
   ],
   "source": [
    "# BERT\n",
    "from sklearn.naive_bayes import GaussianNB\n",
    "nb = GaussianNB()\n",
    "nb.fit(bert_w2vec_X_train, y_train)\n",
    "y_predict = nb.predict(bert_w2vec_X_test)\n",
    "print('accuracy = ', accuracy_score(y_test, y_predict))\n",
    "print('auc = ', roc_auc_score(y_test, y_predict))"
   ]
  },
  {
   "cell_type": "markdown",
   "id": "e4bc5a07",
   "metadata": {},
   "source": [
    "## 7.3 Support Vector Machine"
   ]
  },
  {
   "cell_type": "code",
   "execution_count": 48,
   "id": "a40d14d9",
   "metadata": {},
   "outputs": [
    {
     "name": "stdout",
     "output_type": "stream",
     "text": [
      "accuracy =  0.817752596789424\n",
      "auc =  0.8140485979681961\n"
     ]
    }
   ],
   "source": [
    "# TF_IDF\n",
    "from sklearn.svm import SVC\n",
    "svm = SVC(kernel='rbf', probability=True, random_state=0)\n",
    "svm.fit(X_train_tfidf, y_train)\n",
    "y_predict = svm.predict(X_test_tfidf)\n",
    "print('accuracy = ', accuracy_score(y_test, y_predict))\n",
    "print('auc = ', roc_auc_score(y_test, y_predict))"
   ]
  },
  {
   "cell_type": "code",
   "execution_count": 49,
   "id": "4fcf0b4a",
   "metadata": {},
   "outputs": [
    {
     "name": "stdout",
     "output_type": "stream",
     "text": [
      "accuracy =  0.8772426817752597\n",
      "auc =  0.8757858556853533\n"
     ]
    }
   ],
   "source": [
    "# BERT\n",
    "from sklearn.svm import SVC\n",
    "svm = SVC(kernel='rbf', C=1, probability=True, random_state=0)\n",
    "svm.fit(bert_w2vec_X_train, y_train)\n",
    "y_predict = svm.predict(bert_w2vec_X_test)\n",
    "y_prob_svm = svm.predict_proba(bert_w2vec_X_test)[:,1]\n",
    "print('accuracy = ', accuracy_score(y_test, y_predict))\n",
    "print('auc = ', roc_auc_score(y_test, y_predict))"
   ]
  },
  {
   "cell_type": "markdown",
   "id": "0e7df9a1",
   "metadata": {},
   "source": [
    "## 7.4 Temporal Convolutional Network"
   ]
  },
  {
   "cell_type": "code",
   "execution_count": 50,
   "id": "c688fbca",
   "metadata": {},
   "outputs": [],
   "source": [
    "from tensorflow.keras.datasets import mnist, fashion_mnist\n",
    "from tensorflow.keras.models import Sequential\n",
    "from tensorflow.keras.layers import Dense, Dropout, Flatten\n",
    "from tensorflow.keras.layers import Conv2D, MaxPooling2D,AveragePooling2D\n",
    "\n",
    "from tensorflow.keras.callbacks import EarlyStopping, ModelCheckpoint\n",
    "\n",
    "# Functional API\n",
    "from tensorflow.keras.layers import Input\n",
    "from tensorflow.keras.models import Model"
   ]
  },
  {
   "cell_type": "code",
   "execution_count": 51,
   "id": "6284a619",
   "metadata": {},
   "outputs": [
    {
     "name": "stdout",
     "output_type": "stream",
     "text": [
      "The loss function is binary_crossentropy\n"
     ]
    }
   ],
   "source": [
    "# Get the number of unique labels\n",
    "num_cases = np.unique(y_train).shape[0]\n",
    "\n",
    "if num_cases > 2:\n",
    "    activation = \"softmax\"\n",
    "    loss = 'categorical_crossentropy'\n",
    "else:\n",
    "    activation = \"sigmoid\"\n",
    "    num_cases = 1\n",
    "    loss = 'binary_crossentropy'\n",
    "print('The loss function is', loss)"
   ]
  },
  {
   "cell_type": "code",
   "execution_count": 52,
   "id": "3765caf0",
   "metadata": {},
   "outputs": [],
   "source": [
    "# ! pip install keras-tcn"
   ]
  },
  {
   "cell_type": "code",
   "execution_count": 53,
   "id": "2815ddd2",
   "metadata": {},
   "outputs": [],
   "source": [
    "from tcn import TCN"
   ]
  },
  {
   "cell_type": "markdown",
   "id": "5d34bb74",
   "metadata": {},
   "source": [
    "### 7.4.1 BERT Transformer"
   ]
  },
  {
   "cell_type": "code",
   "execution_count": 54,
   "id": "4d147290",
   "metadata": {},
   "outputs": [
    {
     "data": {
      "text/plain": [
       "(6738, 1, 384)"
      ]
     },
     "execution_count": 54,
     "metadata": {},
     "output_type": "execute_result"
    }
   ],
   "source": [
    "# reshape\n",
    "X_train_0 = bert_w2vec_X_train.reshape([bert_w2vec_X_train.shape[0],1,bert_w2vec_X_train.shape[1]])\n",
    "X_val_0 = bert_w2vec_X_val.reshape([bert_w2vec_X_val.shape[0],1,bert_w2vec_X_val.shape[1]])\n",
    "X_test_0 = bert_w2vec_X_test.reshape([bert_w2vec_X_test.shape[0],1,bert_w2vec_X_test.shape[1]])\n",
    "X_train_0.shape"
   ]
  },
  {
   "cell_type": "code",
   "execution_count": 55,
   "id": "b81bb93e",
   "metadata": {},
   "outputs": [],
   "source": [
    "batch_size, time_steps, input_dim = None, X_train_0.shape[1], X_train_0.shape[2]\n",
    "tcn_layer = TCN(input_shape = (time_steps, input_dim))\n",
    "model1 = Sequential([tcn_layer, \n",
    "                     Dense(1), \n",
    "                     Dropout(0.5), \n",
    "                     Dense(num_cases, activation=activation)])\n",
    "model1.compile(loss='binary_crossentropy',optimizer='adam',metrics=['accuracy'])"
   ]
  },
  {
   "cell_type": "code",
   "execution_count": 56,
   "id": "b4961a60",
   "metadata": {},
   "outputs": [],
   "source": [
    "def acc_key(history=None, model=None):\n",
    "    key_name = None\n",
    "    \n",
    "    if model is not None:\n",
    "      key_name = \"accuracy\" if \"accuracy\" in model.metrics_names else \"acc\"\n",
    "    else:\n",
    "      key_name = \"accuracy\" if \"accuracy\" in history.history.keys() else \"acc\"\n",
    "    \n",
    "    return key_name\n",
    "\n",
    "\n",
    "def TCN_plotTrain(history, model_name):\n",
    "    fig, axs = plt.subplots(1, 2, figsize=(12, 5) )\n",
    "\n",
    "    # Determine the name of the key that indexes into the accuracy metric\n",
    "    acc_string = acc_key(history=history)\n",
    "    \n",
    "    # Plot loss\n",
    "    axs[0].plot(history.history['loss'])\n",
    "    axs[0].plot(history.history['val_loss'])\n",
    "    axs[0].set_title(model_name + \" \" + 'model loss')\n",
    "    axs[0].set_ylabel('loss')\n",
    "    axs[0].set_xlabel('epoch')\n",
    "    axs[0].legend(['train', 'validation'], loc='upper left')\n",
    "   \n",
    "    # Plot accuracy\n",
    "    axs[1].plot(history.history[ acc_string ])\n",
    "    axs[1].plot(history.history['val_' + acc_string ])\n",
    "    axs[1].set_title(model_name + \" \" +'model accuracy')\n",
    "    axs[1].set_ylabel('accuracy')\n",
    "    axs[1].set_xlabel('epoch')\n",
    "    axs[1].legend(['train', 'validation'], loc='upper left')\n",
    "\n",
    "    return fig, axs"
   ]
  },
  {
   "cell_type": "code",
   "execution_count": 57,
   "id": "381b54d6",
   "metadata": {},
   "outputs": [
    {
     "name": "stdout",
     "output_type": "stream",
     "text": [
      "Epoch 1/10\n",
      "34/34 [==============================] - 4s 77ms/step - loss: 0.5795 - accuracy: 0.6687 - val_loss: 0.3608 - val_accuracy: 0.8852\n",
      "Epoch 2/10\n",
      "34/34 [==============================] - 2s 44ms/step - loss: 0.4995 - accuracy: 0.7205 - val_loss: 0.3312 - val_accuracy: 0.8859\n",
      "Epoch 3/10\n",
      "34/34 [==============================] - 2s 44ms/step - loss: 0.4672 - accuracy: 0.7407 - val_loss: 0.3148 - val_accuracy: 0.8898\n",
      "Epoch 4/10\n",
      "34/34 [==============================] - 2s 45ms/step - loss: 0.4604 - accuracy: 0.7437 - val_loss: 0.3188 - val_accuracy: 0.9010\n",
      "Epoch 5/10\n",
      "34/34 [==============================] - 2s 44ms/step - loss: 0.4546 - accuracy: 0.7496 - val_loss: 0.3037 - val_accuracy: 0.8984\n",
      "Epoch 6/10\n",
      "34/34 [==============================] - 2s 45ms/step - loss: 0.4481 - accuracy: 0.7474 - val_loss: 0.3075 - val_accuracy: 0.8938\n",
      "Epoch 7/10\n",
      "34/34 [==============================] - 2s 47ms/step - loss: 0.4361 - accuracy: 0.7573 - val_loss: 0.3022 - val_accuracy: 0.8911\n",
      "Epoch 8/10\n",
      "34/34 [==============================] - 2s 48ms/step - loss: 0.4281 - accuracy: 0.7584 - val_loss: 0.2729 - val_accuracy: 0.8925\n",
      "Epoch 9/10\n",
      "34/34 [==============================] - 2s 48ms/step - loss: 0.4032 - accuracy: 0.7707 - val_loss: 0.3037 - val_accuracy: 0.8866\n",
      "Epoch 10/10\n",
      "34/34 [==============================] - 2s 46ms/step - loss: 0.3997 - accuracy: 0.7677 - val_loss: 0.2891 - val_accuracy: 0.8931\n"
     ]
    }
   ],
   "source": [
    "model_name1 = \"TCN + BERT\"\n",
    "max_epochs = 10\n",
    "batch_size = 200\n",
    "history1=model1.fit(X_train_0, y_train,\n",
    "            batch_size=batch_size,\n",
    "            epochs=max_epochs,\n",
    "            verbose=1,\n",
    "            validation_data=(X_val_0, y_val)\n",
    "            )"
   ]
  },
  {
   "cell_type": "code",
   "execution_count": 58,
   "id": "7c071cd7",
   "metadata": {},
   "outputs": [
    {
     "name": "stdout",
     "output_type": "stream",
     "text": [
      "TCN + BERT: Test loss: 0.362108 / Test accuracy: 0.836324\n"
     ]
    }
   ],
   "source": [
    "score1 = []\n",
    "score1 = model1.evaluate(X_test_0, y_test, verbose=0)\n",
    "y_prob_tcn = model1.predict(X_test_0)\n",
    "print(\"{n:s}: Test loss: {l:f} / Test accuracy: {a:f}\".format(n=model_name1, l=score1[0], a=score1[1]))"
   ]
  },
  {
   "cell_type": "code",
   "execution_count": 59,
   "id": "332387cb",
   "metadata": {},
   "outputs": [
    {
     "data": {
      "text/plain": [
       "(<Figure size 864x360 with 2 Axes>,\n",
       " array([<AxesSubplot:title={'center':'TCN + BERT model loss'}, xlabel='epoch', ylabel='loss'>,\n",
       "        <AxesSubplot:title={'center':'TCN + BERT model accuracy'}, xlabel='epoch', ylabel='accuracy'>],\n",
       "       dtype=object))"
      ]
     },
     "execution_count": 59,
     "metadata": {},
     "output_type": "execute_result"
    },
    {
     "data": {
      "image/png": "[encoded data removed]",
      "text/plain": [
       "<Figure size 864x360 with 2 Axes>"
      ]
     },
     "metadata": {
      "needs_background": "light"
     },
     "output_type": "display_data"
    }
   ],
   "source": [
    "TCN_plotTrain(history1, model_name1)"
   ]
  },
  {
   "cell_type": "markdown",
   "id": "56fabb03",
   "metadata": {},
   "source": [
    "### 7.4.2 TF-IDF Vectorizer"
   ]
  },
  {
   "cell_type": "code",
   "execution_count": 60,
   "id": "f6ece35a",
   "metadata": {},
   "outputs": [
    {
     "data": {
      "text/plain": [
       "(6738, 1, 44663)"
      ]
     },
     "execution_count": 60,
     "metadata": {},
     "output_type": "execute_result"
    }
   ],
   "source": [
    "# reshape\n",
    "X_train_1 = X_train_tfidf.toarray().reshape([X_train_tfidf.shape[0],1,X_train_tfidf.shape[1]])\n",
    "X_val_1 = X_val_tfidf.toarray().reshape([X_val_tfidf.shape[0],1,X_val_tfidf.shape[1]])\n",
    "X_test_1 = X_test_tfidf.toarray().reshape([X_test_tfidf.shape[0],1,X_test_tfidf.shape[1]])\n",
    "X_train_1.shape"
   ]
  },
  {
   "cell_type": "code",
   "execution_count": 61,
   "id": "2e6efffd",
   "metadata": {},
   "outputs": [],
   "source": [
    "batch_size, time_steps, input_dim = None, X_train_1.shape[1], X_train_1.shape[2]\n",
    "tcn_layer = TCN(input_shape = (time_steps, input_dim))\n",
    "model2 = Sequential([tcn_layer, \n",
    "                     Dense(1), \n",
    "                     Dropout(0.5), \n",
    "                     Dense(num_cases, activation=activation)])\n",
    "model2.compile(loss='binary_crossentropy',optimizer='adam',metrics=['accuracy'])"
   ]
  },
  {
   "cell_type": "code",
   "execution_count": 62,
   "id": "da71d7b8",
   "metadata": {},
   "outputs": [
    {
     "name": "stdout",
     "output_type": "stream",
     "text": [
      "Epoch 1/10\n",
      "34/34 [==============================] - 48s 1s/step - loss: 0.5994 - accuracy: 0.6497 - val_loss: 0.3613 - val_accuracy: 0.8557\n",
      "Epoch 2/10\n",
      "34/34 [==============================] - 46s 1s/step - loss: 0.4388 - accuracy: 0.7505 - val_loss: 0.3272 - val_accuracy: 0.8485\n",
      "Epoch 3/10\n",
      "34/34 [==============================] - 46s 1s/step - loss: 0.3953 - accuracy: 0.7692 - val_loss: 0.3110 - val_accuracy: 0.8616\n",
      "Epoch 4/10\n",
      "34/34 [==============================] - 45s 1s/step - loss: 0.3727 - accuracy: 0.7799 - val_loss: 0.3118 - val_accuracy: 0.8610\n",
      "Epoch 5/10\n",
      "34/34 [==============================] - 46s 1s/step - loss: 0.3593 - accuracy: 0.7878 - val_loss: 0.3110 - val_accuracy: 0.8584\n",
      "Epoch 6/10\n",
      "34/34 [==============================] - 46s 1s/step - loss: 0.3434 - accuracy: 0.7965 - val_loss: 0.3248 - val_accuracy: 0.8630\n",
      "Epoch 7/10\n",
      "34/34 [==============================] - 46s 1s/step - loss: 0.3448 - accuracy: 0.7955 - val_loss: 0.2931 - val_accuracy: 0.8669\n",
      "Epoch 8/10\n",
      "34/34 [==============================] - 47s 1s/step - loss: 0.3511 - accuracy: 0.7918 - val_loss: 0.3056 - val_accuracy: 0.8702\n",
      "Epoch 9/10\n",
      "34/34 [==============================] - 47s 1s/step - loss: 0.3419 - accuracy: 0.7968 - val_loss: 0.3220 - val_accuracy: 0.8695\n",
      "Epoch 10/10\n",
      "34/34 [==============================] - 46s 1s/step - loss: 0.3449 - accuracy: 0.7950 - val_loss: 0.3082 - val_accuracy: 0.8682\n"
     ]
    }
   ],
   "source": [
    "model_name2 = \"TCN + TF-IDF\"\n",
    "max_epochs = 10\n",
    "batch_size = 200\n",
    "history2=model2.fit(X_train_1, y_train,\n",
    "            batch_size=batch_size,\n",
    "            epochs=max_epochs,\n",
    "            verbose=1,\n",
    "            validation_data=(X_val_1, y_val)\n",
    "            )"
   ]
  },
  {
   "cell_type": "code",
   "execution_count": 63,
   "id": "b1c7151c",
   "metadata": {},
   "outputs": [
    {
     "name": "stdout",
     "output_type": "stream",
     "text": [
      "TCN + TF-IDF: Test loss: 0.466535 / Test accuracy: 0.802329\n"
     ]
    }
   ],
   "source": [
    "score2 = []\n",
    "score2 = model2.evaluate(X_test_1, y_test, verbose=0)\n",
    "print(\"{n:s}: Test loss: {l:f} / Test accuracy: {a:f}\".format(n=model_name2, l=score2[0], a=score2[1]))"
   ]
  },
  {
   "cell_type": "code",
   "execution_count": 64,
   "id": "85e8d67c",
   "metadata": {},
   "outputs": [
    {
     "data": {
      "text/plain": [
       "(<Figure size 864x360 with 2 Axes>,\n",
       " array([<AxesSubplot:title={'center':'TCN + TF-IDF model loss'}, xlabel='epoch', ylabel='loss'>,\n",
       "        <AxesSubplot:title={'center':'TCN + TF-IDF model accuracy'}, xlabel='epoch', ylabel='accuracy'>],\n",
       "       dtype=object))"
      ]
     },
     "execution_count": 64,
     "metadata": {},
     "output_type": "execute_result"
    },
    {
     "data": {
      "image/png": "[encoded data removed]",
      "text/plain": [
       "<Figure size 864x360 with 2 Axes>"
      ]
     },
     "metadata": {
      "needs_background": "light"
     },
     "output_type": "display_data"
    }
   ],
   "source": [
    "TCN_plotTrain(history2, model_name2)"
   ]
  },
  {
   "cell_type": "markdown",
   "id": "addddf6a",
   "metadata": {},
   "source": [
    "# 8 Compare the model performances by ROC Curve"
   ]
  },
  {
   "cell_type": "code",
   "execution_count": 65,
   "id": "436c03fb",
   "metadata": {},
   "outputs": [
    {
     "data": {
      "text/plain": [
       "Text(0.5, 0, 'False Positive Rate')"
      ]
     },
     "execution_count": 65,
     "metadata": {},
     "output_type": "execute_result"
    },
    {
     "data": {
      "image/png": "[encoded data removed]",
      "text/plain": [
       "<Figure size 720x576 with 1 Axes>"
      ]
     },
     "metadata": {},
     "output_type": "display_data"
    }
   ],
   "source": [
    "# ====================plot setting ===============\n",
    "pd.options.display.max_colwidth = 60\n",
    "\n",
    "plt.rcParams['figure.figsize'] = (10, 8)\n",
    "plt.rcParams['legend.fontsize'] = 'x-large'\n",
    "plt.rcParams['axes.labelsize'] = 'x-large'\n",
    "plt.rcParams['axes.titlesize'] = 'x-large'\n",
    "plt.rcParams['xtick.labelsize'] = 'x-large'\n",
    "plt.rcParams['ytick.labelsize'] = 'x-large'\n",
    "\n",
    "import seaborn as sns\n",
    "sns.set_style('darkgrid')\n",
    "sns.set_context('notebook', font_scale=2)\n",
    "\n",
    "# ===================compare ROC curves===================== \n",
    "# Compute ROC curve AUC\n",
    "from sklearn.metrics import roc_curve, auc\n",
    "fpr_rf_model, tpr_rf_model, _ = roc_curve(y_test, y_prob_rf_model, pos_label=None)\n",
    "fpr_nb_model, tpr_nb_model, _ = roc_curve(y_test, y_prob_nb_model, pos_label=None)\n",
    "fpr_lr, tpr_lr, _ = roc_curve(y_test, y_prob_lr, pos_label=None)\n",
    "fpr_nb, tpr_nb, _ = roc_curve(y_test, y_prob_nb, pos_label=None)\n",
    "fpr_svm, tpr_svm, _ = roc_curve(y_test, y_prob_svm, pos_label=None)\n",
    "fpr_tcn, tpr_tcn, _ = roc_curve(y_test, y_prob_tcn, pos_label=None)\n",
    "\n",
    "roc_auc_rf_model = roc_auc_score(y_test, y_prob_rf_model)\n",
    "roc_auc_nb_model = roc_auc_score(y_test, y_prob_nb_model)\n",
    "roc_auc_lr = roc_auc_score(y_test, y_prob_lr)\n",
    "roc_auc_nb = roc_auc_score(y_test, y_prob_nb)\n",
    "roc_auc_svm = roc_auc_score(y_test, y_prob_svm)\n",
    "roc_auc_tcn = roc_auc_score(y_test, y_prob_tcn)\n",
    "\n",
    "# Plot the ROC curves\n",
    "plt.title('Receiver Operating Characteristic')\n",
    "plt.plot(fpr_nb_model, tpr_nb_model, 'r-.', label = 'MNB + TF-IDF: AUC = %0.4f' % roc_auc_nb_model)\n",
    "plt.plot(fpr_nb, tpr_nb, 'g:', label = 'GNB + TF-IDF: AUC = %0.4f' % roc_auc_nb)\n",
    "\n",
    "plt.legend(loc = 'lower right')\n",
    "plt.plot([0, 1], [0, 1],'k')\n",
    "plt.xlim([0, 1])\n",
    "plt.ylim([0, 1])\n",
    "plt.ylabel('True Positive Rate')\n",
    "plt.xlabel('False Positive Rate')"
   ]
  },
  {
   "cell_type": "code",
   "execution_count": 66,
   "id": "c54b80f8",
   "metadata": {},
   "outputs": [
    {
     "data": {
      "text/plain": [
       "Text(0.5, 0, 'False Positive Rate')"
      ]
     },
     "execution_count": 66,
     "metadata": {},
     "output_type": "execute_result"
    },
    {
     "data": {
      "image/png": "[encoded data removed]",
      "text/plain": [
       "<Figure size 720x576 with 1 Axes>"
      ]
     },
     "metadata": {},
     "output_type": "display_data"
    }
   ],
   "source": [
    "# Plot the ROC curves\n",
    "plt.title('Receiver Operating Characteristic')\n",
    "\n",
    "plt.plot(fpr_rf_model, tpr_rf_model, 'r-.', label = 'RF + BERT: AUC = %0.4f' % roc_auc_rf_model)\n",
    "plt.plot(fpr_svm, tpr_svm, 'b--', label = 'SVM + BERT: AUC = %0.4f' % roc_auc_svm)\n",
    "plt.plot(fpr_tcn, tpr_tcn, 'c--', label = 'TCN + BERT: AUC = %0.4f' % roc_auc_tcn)\n",
    "plt.plot(fpr_lr, tpr_lr, 'g:', label = 'LR + BERT: AUC = %0.4f' % roc_auc_lr)\n",
    "\n",
    "plt.legend(loc = 'lower right')\n",
    "plt.plot([0, 1], [0, 1],'k')\n",
    "plt.xlim([0, 1])\n",
    "plt.ylim([0, 1])\n",
    "plt.ylabel('True Positive Rate')\n",
    "plt.xlabel('False Positive Rate')"
   ]
  },
  {
   "cell_type": "markdown",
   "id": "e8482ac3",
   "metadata": {},
   "source": [
    "# 9 Examples of Sentiment Classification on Financial News Headlines "
   ]
  },
  {
   "cell_type": "code",
   "execution_count": 67,
   "id": "f02bea81",
   "metadata": {},
   "outputs": [
    {
     "name": "stdout",
     "output_type": "stream",
     "text": [
      "bert_w2vec_X_example vectorize finished\n"
     ]
    }
   ],
   "source": [
    "X_example = np.array(X_test[-20:])\n",
    "sentence_model = SentenceTransformer('all-MiniLM-L6-v2')\n",
    "bert_w2vec_X_example = bert_w2vec_X(X_example, sentence_model, Final_Folder, \"example\")\n",
    "svm_predicted_label = svm.predict(bert_w2vec_X_example)"
   ]
  },
  {
   "cell_type": "code",
   "execution_count": 68,
   "id": "5a6131a5",
   "metadata": {},
   "outputs": [],
   "source": [
    "X_example = X_test[-20:]\n",
    "X_example_tfidf = X_test_tfidf[-20:]\n",
    "lr_predicted_label = lr.predict(X_example_tfidf)\n",
    "df_example = pd.DataFrame([X_example, lr_predicted_label, svm_predicted_label]).T\n",
    "df_example.columns = ['Headline', 'LR', 'SVM']"
   ]
  },
  {
   "cell_type": "code",
   "execution_count": 69,
   "id": "e76902e8",
   "metadata": {},
   "outputs": [
    {
     "data": {
      "text/html": [
       "<div>\n",
       "<style scoped>\n",
       "    .dataframe tbody tr th:only-of-type {\n",
       "        vertical-align: middle;\n",
       "    }\n",
       "\n",
       "    .dataframe tbody tr th {\n",
       "        vertical-align: top;\n",
       "    }\n",
       "\n",
       "    .dataframe thead th {\n",
       "        text-align: right;\n",
       "    }\n",
       "</style>\n",
       "<table border=\"1\" class=\"dataframe\">\n",
       "  <thead>\n",
       "    <tr style=\"text-align: right;\">\n",
       "      <th></th>\n",
       "      <th>Headline</th>\n",
       "      <th>LR</th>\n",
       "      <th>SVM</th>\n",
       "    </tr>\n",
       "  </thead>\n",
       "  <tbody>\n",
       "    <tr>\n",
       "      <th>0</th>\n",
       "      <td>Yelp +10% amid revenue beat, strong Q4 guidance</td>\n",
       "      <td>1</td>\n",
       "      <td>1</td>\n",
       "    </tr>\n",
       "    <tr>\n",
       "      <th>1</th>\n",
       "      <td>Yelp EPS misses by $0.05, beats on revenue</td>\n",
       "      <td>0</td>\n",
       "      <td>0</td>\n",
       "    </tr>\n",
       "    <tr>\n",
       "      <th>2</th>\n",
       "      <td>Dow Jones Industrial Average Pops After The Latest Trade...</td>\n",
       "      <td>0</td>\n",
       "      <td>1</td>\n",
       "    </tr>\n",
       "    <tr>\n",
       "      <th>3</th>\n",
       "      <td>China responds to new U.S. tariff threat</td>\n",
       "      <td>0</td>\n",
       "      <td>0</td>\n",
       "    </tr>\n",
       "    <tr>\n",
       "      <th>4</th>\n",
       "      <td>JOYY (YY) Q4 Earnings Beat Estimates, Revenues Rise Y/Y</td>\n",
       "      <td>1</td>\n",
       "      <td>1</td>\n",
       "    </tr>\n",
       "    <tr>\n",
       "      <th>5</th>\n",
       "      <td>Dow Jones Futures: Apple, AMD Lead Key Earnings Movers; ...</td>\n",
       "      <td>0</td>\n",
       "      <td>0</td>\n",
       "    </tr>\n",
       "    <tr>\n",
       "      <th>6</th>\n",
       "      <td>Will Portfolio Strength &amp; User Growth Aid MSCI Q2 Earnings?</td>\n",
       "      <td>1</td>\n",
       "      <td>1</td>\n",
       "    </tr>\n",
       "    <tr>\n",
       "      <th>7</th>\n",
       "      <td>Buy 6 Top Stocks Set to Beat on Earnings in Q2 Today</td>\n",
       "      <td>1</td>\n",
       "      <td>1</td>\n",
       "    </tr>\n",
       "    <tr>\n",
       "      <th>8</th>\n",
       "      <td>Zogenix Announces Positive Top-line Results from Global ...</td>\n",
       "      <td>1</td>\n",
       "      <td>1</td>\n",
       "    </tr>\n",
       "    <tr>\n",
       "      <th>9</th>\n",
       "      <td>Zynga (ZNGA) Q4 Earnings Miss Estimates</td>\n",
       "      <td>0</td>\n",
       "      <td>0</td>\n",
       "    </tr>\n",
       "    <tr>\n",
       "      <th>10</th>\n",
       "      <td>Zumiez Curbs Costs &amp; Extends Store Closure Amid Coronavirus</td>\n",
       "      <td>0</td>\n",
       "      <td>0</td>\n",
       "    </tr>\n",
       "    <tr>\n",
       "      <th>11</th>\n",
       "      <td>Zumiez (ZUMZ) Q3 Earnings and Revenues Beat Estimates</td>\n",
       "      <td>1</td>\n",
       "      <td>1</td>\n",
       "    </tr>\n",
       "    <tr>\n",
       "      <th>12</th>\n",
       "      <td>Zumiez gains after earnings beat</td>\n",
       "      <td>1</td>\n",
       "      <td>1</td>\n",
       "    </tr>\n",
       "    <tr>\n",
       "      <th>13</th>\n",
       "      <td>Zumiez EPS beats by $0.15, beats on revenue</td>\n",
       "      <td>1</td>\n",
       "      <td>1</td>\n",
       "    </tr>\n",
       "    <tr>\n",
       "      <th>14</th>\n",
       "      <td>Zumiez (ZUMZ) Beats Q2 Earnings and Revenue Estimates</td>\n",
       "      <td>1</td>\n",
       "      <td>1</td>\n",
       "    </tr>\n",
       "    <tr>\n",
       "      <th>15</th>\n",
       "      <td>Zumiez EPS beats by $0.17, beats on revenue</td>\n",
       "      <td>1</td>\n",
       "      <td>1</td>\n",
       "    </tr>\n",
       "    <tr>\n",
       "      <th>16</th>\n",
       "      <td>American Eagle (AEO) Slumps Despite Q2 Earnings &amp; Sales ...</td>\n",
       "      <td>1</td>\n",
       "      <td>0</td>\n",
       "    </tr>\n",
       "    <tr>\n",
       "      <th>17</th>\n",
       "      <td>Zumiez (ZUMZ) Beats Q1 Earnings and Revenue Estimates</td>\n",
       "      <td>1</td>\n",
       "      <td>1</td>\n",
       "    </tr>\n",
       "    <tr>\n",
       "      <th>18</th>\n",
       "      <td>Zumiez EPS beats by $0.11, beats on revenue</td>\n",
       "      <td>1</td>\n",
       "      <td>1</td>\n",
       "    </tr>\n",
       "    <tr>\n",
       "      <th>19</th>\n",
       "      <td>American Eagle (AEO) Q1 Earnings &amp; Revenues Beat Estimates</td>\n",
       "      <td>1</td>\n",
       "      <td>1</td>\n",
       "    </tr>\n",
       "  </tbody>\n",
       "</table>\n",
       "</div>"
      ],
      "text/plain": [
       "                                                       Headline LR SVM\n",
       "0               Yelp +10% amid revenue beat, strong Q4 guidance  1   1\n",
       "1                    Yelp EPS misses by $0.05, beats on revenue  0   0\n",
       "2   Dow Jones Industrial Average Pops After The Latest Trade...  0   1\n",
       "3                      China responds to new U.S. tariff threat  0   0\n",
       "4       JOYY (YY) Q4 Earnings Beat Estimates, Revenues Rise Y/Y  1   1\n",
       "5   Dow Jones Futures: Apple, AMD Lead Key Earnings Movers; ...  0   0\n",
       "6   Will Portfolio Strength & User Growth Aid MSCI Q2 Earnings?  1   1\n",
       "7          Buy 6 Top Stocks Set to Beat on Earnings in Q2 Today  1   1\n",
       "8   Zogenix Announces Positive Top-line Results from Global ...  1   1\n",
       "9                       Zynga (ZNGA) Q4 Earnings Miss Estimates  0   0\n",
       "10  Zumiez Curbs Costs & Extends Store Closure Amid Coronavirus  0   0\n",
       "11        Zumiez (ZUMZ) Q3 Earnings and Revenues Beat Estimates  1   1\n",
       "12                             Zumiez gains after earnings beat  1   1\n",
       "13                  Zumiez EPS beats by $0.15, beats on revenue  1   1\n",
       "14        Zumiez (ZUMZ) Beats Q2 Earnings and Revenue Estimates  1   1\n",
       "15                  Zumiez EPS beats by $0.17, beats on revenue  1   1\n",
       "16  American Eagle (AEO) Slumps Despite Q2 Earnings & Sales ...  1   0\n",
       "17        Zumiez (ZUMZ) Beats Q1 Earnings and Revenue Estimates  1   1\n",
       "18                  Zumiez EPS beats by $0.11, beats on revenue  1   1\n",
       "19   American Eagle (AEO) Q1 Earnings & Revenues Beat Estimates  1   1"
      ]
     },
     "execution_count": 69,
     "metadata": {},
     "output_type": "execute_result"
    }
   ],
   "source": [
    "df_example"
   ]
  },
  {
   "cell_type": "code",
   "execution_count": 70,
   "id": "44f561b8",
   "metadata": {},
   "outputs": [
    {
     "data": {
      "text/html": [
       "<div>\n",
       "<style scoped>\n",
       "    .dataframe tbody tr th:only-of-type {\n",
       "        vertical-align: middle;\n",
       "    }\n",
       "\n",
       "    .dataframe tbody tr th {\n",
       "        vertical-align: top;\n",
       "    }\n",
       "\n",
       "    .dataframe thead th {\n",
       "        text-align: right;\n",
       "    }\n",
       "</style>\n",
       "<table border=\"1\" class=\"dataframe\">\n",
       "  <thead>\n",
       "    <tr style=\"text-align: right;\">\n",
       "      <th></th>\n",
       "      <th>Headline</th>\n",
       "      <th>LR</th>\n",
       "      <th>SVM</th>\n",
       "    </tr>\n",
       "  </thead>\n",
       "  <tbody>\n",
       "    <tr>\n",
       "      <th>2</th>\n",
       "      <td>Dow Jones Industrial Average Pops After The Latest Trade...</td>\n",
       "      <td>0</td>\n",
       "      <td>1</td>\n",
       "    </tr>\n",
       "    <tr>\n",
       "      <th>16</th>\n",
       "      <td>American Eagle (AEO) Slumps Despite Q2 Earnings &amp; Sales ...</td>\n",
       "      <td>1</td>\n",
       "      <td>0</td>\n",
       "    </tr>\n",
       "  </tbody>\n",
       "</table>\n",
       "</div>"
      ],
      "text/plain": [
       "                                                       Headline LR SVM\n",
       "2   Dow Jones Industrial Average Pops After The Latest Trade...  0   1\n",
       "16  American Eagle (AEO) Slumps Despite Q2 Earnings & Sales ...  1   0"
      ]
     },
     "execution_count": 70,
     "metadata": {},
     "output_type": "execute_result"
    }
   ],
   "source": [
    "df_example[df_example['LR']!=df_example['SVM']]"
   ]
  },
  {
   "cell_type": "code",
   "execution_count": null,
   "id": "188a165e",
   "metadata": {},
   "outputs": [],
   "source": []
  },
  {
   "cell_type": "markdown",
   "id": "d36a2eb9",
   "metadata": {},
   "source": [
    "# 10 Quantitative Trading Strategy with Label Type II"
   ]
  },
  {
   "cell_type": "code",
   "execution_count": 71,
   "id": "d175eff1",
   "metadata": {},
   "outputs": [],
   "source": [
    "plt.rcParams['legend.fontsize'] = 'x-small'\n",
    "plt.rcParams['axes.labelsize'] = 'x-small'\n",
    "plt.rcParams['axes.titlesize'] = 'x-small'\n",
    "plt.rcParams['xtick.labelsize'] = 'x-small'\n",
    "plt.rcParams['ytick.labelsize'] = 'x-small'\n",
    "plt.rcParams['figure.figsize'] = (8, 4)"
   ]
  },
  {
   "cell_type": "code",
   "execution_count": 72,
   "id": "903f7694",
   "metadata": {},
   "outputs": [
    {
     "name": "stdout",
     "output_type": "stream",
     "text": [
      "The size of train, validation and test set are [6738, 1525, 3177]\n"
     ]
    }
   ],
   "source": [
    "# train_validate_test_split by actual dates\n",
    "X_train = df[train_period]['headline'].values\n",
    "X_val = df[val_period]['headline'].values\n",
    "X_test = df[test_period]['headline'].values\n",
    "\n",
    "y_train = df[train_period]['sentiment_label'].values.astype('int')\n",
    "y_val = df[val_period]['sentiment_label'].values.astype('int')\n",
    "y_test = df[test_period]['sentiment_label'].values.astype('int')\n",
    "\n",
    "print(\"The size of train, validation and test set are\", [len(x) for x in [X_train, X_val, X_test]])"
   ]
  },
  {
   "cell_type": "code",
   "execution_count": 73,
   "id": "9339685f",
   "metadata": {},
   "outputs": [
    {
     "name": "stdout",
     "output_type": "stream",
     "text": [
      "<Read stock_all_return.csv from local file>\n"
     ]
    },
    {
     "data": {
      "text/html": [
       "<div>\n",
       "<style scoped>\n",
       "    .dataframe tbody tr th:only-of-type {\n",
       "        vertical-align: middle;\n",
       "    }\n",
       "\n",
       "    .dataframe tbody tr th {\n",
       "        vertical-align: top;\n",
       "    }\n",
       "\n",
       "    .dataframe thead th {\n",
       "        text-align: right;\n",
       "    }\n",
       "</style>\n",
       "<table border=\"1\" class=\"dataframe\">\n",
       "  <thead>\n",
       "    <tr style=\"text-align: right;\">\n",
       "      <th></th>\n",
       "      <th>stock</th>\n",
       "      <th>date</th>\n",
       "      <th>next_day_return</th>\n",
       "    </tr>\n",
       "  </thead>\n",
       "  <tbody>\n",
       "    <tr>\n",
       "      <th>0</th>\n",
       "      <td>A</td>\n",
       "      <td>2010-02-03</td>\n",
       "      <td>-0.007850</td>\n",
       "    </tr>\n",
       "    <tr>\n",
       "      <th>1</th>\n",
       "      <td>A</td>\n",
       "      <td>2010-02-04</td>\n",
       "      <td>0.008993</td>\n",
       "    </tr>\n",
       "    <tr>\n",
       "      <th>2</th>\n",
       "      <td>A</td>\n",
       "      <td>2010-02-05</td>\n",
       "      <td>-0.000342</td>\n",
       "    </tr>\n",
       "    <tr>\n",
       "      <th>3</th>\n",
       "      <td>A</td>\n",
       "      <td>2010-02-08</td>\n",
       "      <td>-0.004064</td>\n",
       "    </tr>\n",
       "    <tr>\n",
       "      <th>4</th>\n",
       "      <td>A</td>\n",
       "      <td>2010-02-09</td>\n",
       "      <td>-0.007128</td>\n",
       "    </tr>\n",
       "  </tbody>\n",
       "</table>\n",
       "</div>"
      ],
      "text/plain": [
       "  stock       date  next_day_return\n",
       "0     A 2010-02-03        -0.007850\n",
       "1     A 2010-02-04         0.008993\n",
       "2     A 2010-02-05        -0.000342\n",
       "3     A 2010-02-08        -0.004064\n",
       "4     A 2010-02-09        -0.007128"
      ]
     },
     "execution_count": 73,
     "metadata": {},
     "output_type": "execute_result"
    }
   ],
   "source": [
    "# Get the next day return for all stocks (Rerturn = Close/Open-1 for actual trading)\n",
    "if os.path.exists('stock_all_return.csv'):\n",
    "    stock_return_all = pd.read_csv('stock_all_return.csv', parse_dates=['Date'])\n",
    "    stock_return_all.set_index('Date', inplace=True)\n",
    "    print(\"<Read {} from local file>\".format('stock_all_return.csv'))\n",
    "    # unstack stock_return\n",
    "    stock_return_all = stock_return_all.shift(-1)\n",
    "    stock_return_all = stock_return_all.unstack().reset_index()\n",
    "    stock_return_all.columns = ['stock', 'date', 'next_day_return']\n",
    "\n",
    "stock_return_all.head()"
   ]
  },
  {
   "cell_type": "code",
   "execution_count": 74,
   "id": "d39b4d3e",
   "metadata": {},
   "outputs": [
    {
     "name": "stdout",
     "output_type": "stream",
     "text": [
      "[*********************100%***********************]  1 of 1 completed\n"
     ]
    },
    {
     "data": {
      "text/plain": [
       "<AxesSubplot:title={'center':'S&P 500 Benchmark'}, xlabel='Date', ylabel='Cumulative Return'>"
      ]
     },
     "execution_count": 74,
     "metadata": {},
     "output_type": "execute_result"
    },
    {
     "data": {
      "image/png": "[encoded data removed]",
      "text/plain": [
       "<Figure size 576x288 with 1 Axes>"
      ]
     },
     "metadata": {},
     "output_type": "display_data"
    }
   ],
   "source": [
    "# S&P 500 as Benchmark\n",
    "df_SP500 = yf.download('SPY', start='2019-06-01', end='2020-06-03')\n",
    "df_SP500['Daily_Return'] = df_SP500.Close.pct_change().fillna(0)\n",
    "df_SP500['Cum_Return'] = (df_SP500['Daily_Return']+1).cumprod()\n",
    "df_SP500['Cum_Return'].plot(legend=['S&P_500'], ylabel='Cumulative Return', title='S&P 500 Benchmark')"
   ]
  },
  {
   "cell_type": "markdown",
   "id": "f6ae8784",
   "metadata": {},
   "source": [
    "## 10.1 Construct and Backtest 3 Signals of Trading Strategy \n",
    "\n",
    "### 10.1.1 Voting to determine signal for each stock that have multiple signals in one day\n",
    "- signal_sum: add up all headlines' signals for each stock in one day\n",
    "- signal_0: when news appears, long one unit stock on that day\n",
    "- signal_1: if signal_sum is positive, long one unit stock; if it is negative, not long nor short\n",
    "- signal_2: if signal_sum is positive, long one unit stock; if it is negative, short one unit stock"
   ]
  },
  {
   "cell_type": "markdown",
   "id": "5930de5f",
   "metadata": {},
   "source": [
    "### 10.1.2 Combine signal with next_day_return for each stock to calculate daily return"
   ]
  },
  {
   "cell_type": "markdown",
   "id": "08c0990f",
   "metadata": {},
   "source": [
    "### 10.1.3 Calculate weight for each stock\n",
    "- [Equally weighted for each stock] OR [Weighted on signal_sum of each stock]\n",
    "- Sum of weights in one day = 1"
   ]
  },
  {
   "cell_type": "markdown",
   "id": "0bc419ef",
   "metadata": {},
   "source": [
    "### 10.1.4 Calculate daily and cumulative return for 3 strategies\n",
    "   - Portfolio return is adding up individual stock returns in one day\n",
    "   - Plot returns and Calculate Sharpe and MDD"
   ]
  },
  {
   "cell_type": "code",
   "execution_count": 75,
   "id": "73affca3",
   "metadata": {},
   "outputs": [],
   "source": [
    "def Strategy_Backtest_Equal_Weight(y_predict, plot_title):\n",
    "    \n",
    "    # Use one year of data for strategy testing\n",
    "    df_test = df.loc[test_period, ['headline','date','stock']].copy()\n",
    "    df_test['signal'] = y_predict\n",
    "    df_test[\"signal\"] = (df_test['signal'] - 1) * 2 + 1\n",
    "    df_test.sort_values(by=[\"date\",\"stock\"],inplace=True)\n",
    "    df_test.head()\n",
    "    \n",
    "    # Voting signal for each stock\n",
    "    df_signa1_per_stock = df_test[['signal']].groupby([df_test['date'],df_test['stock']] ).sum().reset_index()\n",
    "    df_signa1_per_stock.columns = ['date', 'stock', 'signal_sum']\n",
    "    df_signa1_per_stock[\"signal_0\"] = 1\n",
    "    df_signa1_per_stock[\"signal_1\"] = df_signa1_per_stock[\"signal_sum\"].apply(lambda x:1 if x>0 else 0)\n",
    "    df_signa1_per_stock[\"signal_2\"] = df_signa1_per_stock[\"signal_sum\"].apply(lambda x:1 if x>0 else (-1 if x<0 else 0))\n",
    "\n",
    "    # Merge with each stock's next day return \n",
    "    stock_return = df_signa1_per_stock.merge(stock_return_all, how='left', on=['date','stock'])\n",
    "    stock_return.dropna(inplace=True)\n",
    "\n",
    "    # Calculate daily pnl for each stock\n",
    "    stock_return[\"return_0\"] = stock_return[\"next_day_return\"] * stock_return[\"signal_0\"]\n",
    "    stock_return[\"return_1\"] = stock_return[\"next_day_return\"] * stock_return[\"signal_1\"]\n",
    "    stock_return[\"return_2\"] = stock_return[\"next_day_return\"] * stock_return[\"signal_2\"]\n",
    "    \n",
    "    # Calculate stock weight as: count of signal != 0 for one stock / count of signal != 0 for all stocks\n",
    "    stock_return[\"weight_0\"] = stock_return[\"signal_0\"].abs() / stock_return[\"signal_0\"].abs().groupby(stock_return[\"date\"]).transform(\"sum\")\n",
    "    stock_return[\"weight_1\"] = stock_return[\"signal_1\"].abs() / stock_return[\"signal_1\"].abs().groupby(stock_return[\"date\"]).transform(\"sum\")\n",
    "    stock_return[\"weight_2\"] = stock_return[\"signal_2\"].abs() / stock_return[\"signal_2\"].abs().groupby(stock_return[\"date\"]).transform(\"sum\")\n",
    "    stock_return.fillna(0, inplace=True)\n",
    "    \n",
    "    # Calculate daily pnl for the whole portfolio\n",
    "    stock_return['strategy_0'] = stock_return['return_0'] * stock_return['weight_0']\n",
    "    stock_return['strategy_1'] = stock_return['return_1'] * stock_return['weight_1']\n",
    "    stock_return['strategy_2'] = stock_return['return_2'] * stock_return['weight_2']\n",
    "    portfolio_return = stock_return[['date', 'strategy_0', 'strategy_1', 'strategy_2']].groupby(\"date\").sum().reset_index()\n",
    "    portfolio_return[[\"cum_strategy_0\",\"cum_strategy_1\",\"cum_strategy_2\"]] = (portfolio_return[['strategy_0', 'strategy_1', 'strategy_2']]+1).cumprod()\n",
    "    portfolio_return = portfolio_return.set_index('date').shift(1)\n",
    "    portfolio_return.iloc[0,:] = [0,0,0,1,1,1]\n",
    "    \n",
    "    # Plot Cumulative Return\n",
    "    plt.plot(portfolio_return.index, portfolio_return[\"cum_strategy_0\"], \"c\", label=\"strategy_0\")\n",
    "    plt.plot(portfolio_return.index, portfolio_return[\"cum_strategy_1\"], \"r\", label=\"strategy_1\")\n",
    "    plt.plot(portfolio_return.index, portfolio_return[\"cum_strategy_2\"], \"b\", label=\"strategy_2\")\n",
    "    plt.plot(df_SP500.index, df_SP500['Cum_Return'], \"black\", label=\"S&P_500\")\n",
    "    plt.xlabel(\"Date\")\n",
    "    plt.ylabel(\"Cumulative Return\")\n",
    "    plt.title(plot_title)\n",
    "    plt.legend(loc = 'upper left')\n",
    "    plt.show()\n",
    "    \n",
    "    # Plot Daily Return\n",
    "#     plt.plot(portfolio_return.index, portfolio_return[\"strategy_0\"], \"c\", label=\"strategy_0\")\n",
    "#     plt.plot(portfolio_return.index, portfolio_return[\"strategy_1\"], \"r\", label=\"strategy_1\")\n",
    "#     plt.plot(portfolio_return.index, portfolio_return[\"strategy_2\"], \"b\", label=\"strategy_2\")\n",
    "#     plt.plot(df_SP500.index, df_SP500[\"Daily_Return\"], \"black\", label=\"strategy_2\")\n",
    "#     plt.xlabel(\"Date\")\n",
    "#     plt.ylabel(\"Daily Return\")\n",
    "#     plt.legend(loc = 'upper right')\n",
    "#     plt.show()\n",
    "    \n",
    "    # Calculate Annualized Return\n",
    "    annual_return_0 = portfolio_return.strategy_0.mean() * 252\n",
    "    annual_return_1 = portfolio_return.strategy_1.mean() * 252\n",
    "    annual_return_2 = portfolio_return.strategy_2.mean() * 252\n",
    "    annual_return_sp500 = df_SP500.Daily_Return.mean() * 252\n",
    "    \n",
    "    # Calculate Sharp Ratio and MDD\n",
    "    sharp_ratio_0 = portfolio_return.strategy_0.mean() / portfolio_return.strategy_0.std() * np.sqrt(252)\n",
    "    sharp_ratio_1 = portfolio_return.strategy_1.mean() / portfolio_return.strategy_1.std() * np.sqrt(252)\n",
    "    sharp_ratio_2 = portfolio_return.strategy_2.mean() / portfolio_return.strategy_2.std() * np.sqrt(252)\n",
    "    sharp_ratio_sp500 = df_SP500.Daily_Return.mean() / df_SP500.Daily_Return.std() * np.sqrt(252)\n",
    "\n",
    "    mdd_0= min(portfolio_return.cum_strategy_0 / portfolio_return.cum_strategy_0.cummax() - 1)\n",
    "    mdd_1= min(portfolio_return.cum_strategy_1 / portfolio_return.cum_strategy_1.cummax() - 1)\n",
    "    mdd_2= min(portfolio_return.cum_strategy_2 / portfolio_return.cum_strategy_2.cummax() - 1)\n",
    "    mdd_sp500 = min(df_SP500.Cum_Return / df_SP500.Cum_Return.cummax() - 1)\n",
    "\n",
    "    df_test_result = pd.DataFrame(index=['Strategy_0', 'Strategy_1', 'Strategy_2', 'S&P_500'], \n",
    "                                  columns=['Annualized Return', 'Sharp Ratio', 'Cumulative Return', 'Maximum Drawdown'])\n",
    "    df_test_result.iloc[:,0] = [annual_return_0, annual_return_1, annual_return_2, annual_return_sp500]\n",
    "    df_test_result.iloc[:,1] = [sharp_ratio_0, sharp_ratio_1, sharp_ratio_2, sharp_ratio_sp500]\n",
    "    df_test_result.iloc[:,2] = [portfolio_return.cum_strategy_0[-1], portfolio_return.cum_strategy_1[-1], \n",
    "                                portfolio_return.cum_strategy_2[-1], df_SP500.Cum_Return[-1]]\n",
    "    df_test_result.iloc[:,3] = [mdd_0, mdd_1, mdd_2, mdd_sp500]\n",
    "    \n",
    "    return df_test_result"
   ]
  },
  {
   "cell_type": "code",
   "execution_count": 76,
   "id": "cc6de674",
   "metadata": {},
   "outputs": [],
   "source": [
    "def Strategy_Backtest_Signal_Weight(y_predict, plot_title):\n",
    "    \n",
    "    # Use one year of data for strategy testing\n",
    "    df_test = df.loc[test_period, ['headline','date','stock']].copy()\n",
    "    df_test['signal'] = y_predict\n",
    "    df_test[\"signal\"] = (df_test['signal'] - 1) * 2 + 1\n",
    "    df_test.sort_values(by=[\"date\",\"stock\"],inplace=True)\n",
    "    df_test.head()\n",
    "    \n",
    "    # Voting signal for each stock\n",
    "    df_signa1_per_stock = df_test[['signal']].groupby([df_test['date'],df_test['stock']] ).sum().reset_index()\n",
    "    df_signa1_per_stock.columns = ['date', 'stock', 'signal_sum']\n",
    "    df_signa1_per_stock[\"signal_0\"] = 1\n",
    "    df_signa1_per_stock[\"signal_1\"] = df_signa1_per_stock[\"signal_sum\"].apply(lambda x:1 if x>0 else 0)\n",
    "    df_signa1_per_stock[\"signal_2\"] = df_signa1_per_stock[\"signal_sum\"].apply(lambda x:1 if x>0 else (-1 if x<0 else 0))\n",
    "\n",
    "    # Merge with each stock's next day return \n",
    "    stock_return = df_signa1_per_stock.merge(stock_return_all, how='left', on=['date','stock'])\n",
    "    stock_return.dropna(inplace=True)\n",
    "\n",
    "    # Calculate daily pnl for each stock\n",
    "    stock_return[\"return_0\"] = stock_return[\"next_day_return\"] * stock_return[\"signal_0\"]\n",
    "    stock_return[\"return_1\"] = stock_return[\"next_day_return\"] * stock_return[\"signal_1\"]\n",
    "    stock_return[\"return_2\"] = stock_return[\"next_day_return\"] * stock_return[\"signal_2\"]\n",
    "    \n",
    "    # Calculate stock weight as: signal_sum for one stock / total signal_sum for all stocks\n",
    "    stock_return[\"weight_0\"] = stock_return[\"signal_sum\"].abs() / stock_return[\"signal_sum\"].abs().groupby(stock_return[\"date\"]).transform(\"sum\")\n",
    "    stock_return[\"weight_1\"] = stock_return[\"signal_sum\"].abs() / stock_return[\"signal_sum\"].abs().groupby(stock_return[\"date\"]).transform(\"sum\")\n",
    "    stock_return[\"weight_2\"] = stock_return[\"signal_sum\"].abs() / stock_return[\"signal_sum\"].abs().groupby(stock_return[\"date\"]).transform(\"sum\")\n",
    "    stock_return.fillna(0, inplace=True)\n",
    "    \n",
    "    # Calculate daily pnl for the whole portfolio\n",
    "    stock_return['strategy_0'] = stock_return['return_0'] * stock_return['weight_0']\n",
    "    stock_return['strategy_1'] = stock_return['return_1'] * stock_return['weight_1']\n",
    "    stock_return['strategy_2'] = stock_return['return_2'] * stock_return['weight_2']\n",
    "    portfolio_return = stock_return[['date', 'strategy_0', 'strategy_1', 'strategy_2']].groupby(\"date\").sum().reset_index()\n",
    "    portfolio_return[[\"cum_strategy_0\",\"cum_strategy_1\",\"cum_strategy_2\"]] = (portfolio_return[['strategy_0', 'strategy_1', 'strategy_2']]+1).cumprod()\n",
    "    portfolio_return = portfolio_return.set_index('date').shift(1)\n",
    "    portfolio_return.iloc[0,:] = [0,0,0,1,1,1]\n",
    "    \n",
    "    # Plot Cumulative Return\n",
    "    plt.plot(portfolio_return.index, portfolio_return[\"cum_strategy_0\"], \"c\", label=\"strategy_0\")\n",
    "    plt.plot(portfolio_return.index, portfolio_return[\"cum_strategy_1\"], \"r\", label=\"strategy_1\")\n",
    "    plt.plot(portfolio_return.index, portfolio_return[\"cum_strategy_2\"], \"b\", label=\"strategy_2\")\n",
    "    plt.plot(df_SP500.index, df_SP500['Cum_Return'], \"black\", label=\"S&P_500\")\n",
    "    plt.xlabel(\"Date\")\n",
    "    plt.ylabel(\"Cumulative Return\")\n",
    "    plt.legend(loc = 'upper left')\n",
    "    plt.title(plot_title)\n",
    "    plt.show()\n",
    "    \n",
    "    # Plot Daily Return\n",
    "#     plt.plot(portfolio_return.index, portfolio_return[\"strategy_0\"], \"c\", label=\"strategy_0\")\n",
    "#     plt.plot(portfolio_return.index, portfolio_return[\"strategy_1\"], \"r\", label=\"strategy_1\")\n",
    "#     plt.plot(portfolio_return.index, portfolio_return[\"strategy_2\"], \"b\", label=\"strategy_2\")\n",
    "#     plt.plot(df_SP500.index, df_SP500[\"Daily_Return\"], \"black\", label=\"strategy_2\")\n",
    "#     plt.xlabel(\"Date\")\n",
    "#     plt.ylabel(\"Daily Return\")\n",
    "#     plt.legend(loc = 'upper right')\n",
    "#     plt.show()\n",
    "    \n",
    "    # Calculate Annualized Return\n",
    "    annual_return_0 = portfolio_return.strategy_0.mean() * 252\n",
    "    annual_return_1 = portfolio_return.strategy_1.mean() * 252\n",
    "    annual_return_2 = portfolio_return.strategy_2.mean() * 252\n",
    "    annual_return_sp500 = df_SP500.Daily_Return.mean() * 252\n",
    "    \n",
    "    # Calculate Sharp Ratio and MDD\n",
    "    sharp_ratio_0 = portfolio_return.strategy_0.mean() / portfolio_return.strategy_0.std() * np.sqrt(252)\n",
    "    sharp_ratio_1 = portfolio_return.strategy_1.mean() / portfolio_return.strategy_1.std() * np.sqrt(252)\n",
    "    sharp_ratio_2 = portfolio_return.strategy_2.mean() / portfolio_return.strategy_2.std() * np.sqrt(252)\n",
    "    sharp_ratio_sp500 = df_SP500.Daily_Return.mean() / df_SP500.Daily_Return.std() * np.sqrt(252)\n",
    "\n",
    "    mdd_0= min(portfolio_return.cum_strategy_0 / portfolio_return.cum_strategy_0.cummax() - 1)\n",
    "    mdd_1= min(portfolio_return.cum_strategy_1 / portfolio_return.cum_strategy_1.cummax() - 1)\n",
    "    mdd_2= min(portfolio_return.cum_strategy_2 / portfolio_return.cum_strategy_2.cummax() - 1)\n",
    "    mdd_sp500 = min(df_SP500.Cum_Return / df_SP500.Cum_Return.cummax() - 1)\n",
    "\n",
    "    df_test_result = pd.DataFrame(index=['Strategy_0', 'Strategy_1', 'Strategy_2', 'S&P_500'], \n",
    "                                  columns=['Annualized Return', 'Sharp Ratio', 'Cumulative Return', 'Maximum Drawdown'])\n",
    "    df_test_result.iloc[:,0] = [annual_return_0, annual_return_1, annual_return_2, annual_return_sp500]\n",
    "    df_test_result.iloc[:,1] = [sharp_ratio_0, sharp_ratio_1, sharp_ratio_2, sharp_ratio_sp500]\n",
    "    df_test_result.iloc[:,2] = [portfolio_return.cum_strategy_0[-1], portfolio_return.cum_strategy_1[-1], \n",
    "                                portfolio_return.cum_strategy_2[-1], df_SP500.Cum_Return[-1]]\n",
    "    df_test_result.iloc[:,3] = [mdd_0, mdd_1, mdd_2, mdd_sp500]\n",
    "    \n",
    "    return df_test_result"
   ]
  },
  {
   "cell_type": "markdown",
   "id": "cdc76afc",
   "metadata": {},
   "source": [
    "## 10.2 BERT + RF [ Trade only the stock with news each day - Discrete Signals ]"
   ]
  },
  {
   "cell_type": "code",
   "execution_count": 77,
   "id": "625cbd28",
   "metadata": {},
   "outputs": [],
   "source": [
    "# Compute y_predict_BERT_RF\n",
    "rf_model = RandomForestClassifier(n_estimators=300, max_depth=15, random_state=0, n_jobs=-1)\n",
    "rf_model.fit(bert_w2vec_X_train, y_train)\n",
    "y_predict_BERT_RF = rf_model.predict(bert_w2vec_X_test)"
   ]
  },
  {
   "cell_type": "code",
   "execution_count": 78,
   "id": "f3245a4c",
   "metadata": {},
   "outputs": [
    {
     "data": {
      "image/png": "[encoded data removed]",
      "text/plain": [
       "<Figure size 576x288 with 1 Axes>"
      ]
     },
     "metadata": {},
     "output_type": "display_data"
    },
    {
     "data": {
      "text/html": [
       "<div>\n",
       "<style scoped>\n",
       "    .dataframe tbody tr th:only-of-type {\n",
       "        vertical-align: middle;\n",
       "    }\n",
       "\n",
       "    .dataframe tbody tr th {\n",
       "        vertical-align: top;\n",
       "    }\n",
       "\n",
       "    .dataframe thead th {\n",
       "        text-align: right;\n",
       "    }\n",
       "</style>\n",
       "<table border=\"1\" class=\"dataframe\">\n",
       "  <thead>\n",
       "    <tr style=\"text-align: right;\">\n",
       "      <th></th>\n",
       "      <th>Annualized Return</th>\n",
       "      <th>Sharp Ratio</th>\n",
       "      <th>Cumulative Return</th>\n",
       "      <th>Maximum Drawdown</th>\n",
       "    </tr>\n",
       "  </thead>\n",
       "  <tbody>\n",
       "    <tr>\n",
       "      <th>Strategy_0</th>\n",
       "      <td>2.070135</td>\n",
       "      <td>1.553466</td>\n",
       "      <td>2.831135</td>\n",
       "      <td>-0.771499</td>\n",
       "    </tr>\n",
       "    <tr>\n",
       "      <th>Strategy_1</th>\n",
       "      <td>2.872979</td>\n",
       "      <td>1.718533</td>\n",
       "      <td>3.911559</td>\n",
       "      <td>-0.667700</td>\n",
       "    </tr>\n",
       "    <tr>\n",
       "      <th>Strategy_2</th>\n",
       "      <td>1.883334</td>\n",
       "      <td>1.557080</td>\n",
       "      <td>2.762673</td>\n",
       "      <td>-0.691457</td>\n",
       "    </tr>\n",
       "    <tr>\n",
       "      <th>S&amp;P_500</th>\n",
       "      <td>0.165268</td>\n",
       "      <td>0.521205</td>\n",
       "      <td>1.122045</td>\n",
       "      <td>-0.341047</td>\n",
       "    </tr>\n",
       "  </tbody>\n",
       "</table>\n",
       "</div>"
      ],
      "text/plain": [
       "            Annualized Return  Sharp Ratio  Cumulative Return  \\\n",
       "Strategy_0           2.070135     1.553466           2.831135   \n",
       "Strategy_1           2.872979     1.718533           3.911559   \n",
       "Strategy_2           1.883334     1.557080           2.762673   \n",
       "S&P_500              0.165268     0.521205           1.122045   \n",
       "\n",
       "            Maximum Drawdown  \n",
       "Strategy_0         -0.771499  \n",
       "Strategy_1         -0.667700  \n",
       "Strategy_2         -0.691457  \n",
       "S&P_500            -0.341047  "
      ]
     },
     "execution_count": 78,
     "metadata": {},
     "output_type": "execute_result"
    }
   ],
   "source": [
    "Strategy_Backtest_Equal_Weight(y_predict_BERT_RF, 'Equally Weighted Portfolio with BERT + Random Forest Model')"
   ]
  },
  {
   "cell_type": "code",
   "execution_count": 79,
   "id": "6cbe9b76",
   "metadata": {},
   "outputs": [
    {
     "data": {
      "image/png": "[encoded data removed]",
      "text/plain": [
       "<Figure size 576x288 with 1 Axes>"
      ]
     },
     "metadata": {},
     "output_type": "display_data"
    },
    {
     "data": {
      "text/html": [
       "<div>\n",
       "<style scoped>\n",
       "    .dataframe tbody tr th:only-of-type {\n",
       "        vertical-align: middle;\n",
       "    }\n",
       "\n",
       "    .dataframe tbody tr th {\n",
       "        vertical-align: top;\n",
       "    }\n",
       "\n",
       "    .dataframe thead th {\n",
       "        text-align: right;\n",
       "    }\n",
       "</style>\n",
       "<table border=\"1\" class=\"dataframe\">\n",
       "  <thead>\n",
       "    <tr style=\"text-align: right;\">\n",
       "      <th></th>\n",
       "      <th>Annualized Return</th>\n",
       "      <th>Sharp Ratio</th>\n",
       "      <th>Cumulative Return</th>\n",
       "      <th>Maximum Drawdown</th>\n",
       "    </tr>\n",
       "  </thead>\n",
       "  <tbody>\n",
       "    <tr>\n",
       "      <th>Strategy_0</th>\n",
       "      <td>1.991673</td>\n",
       "      <td>1.491921</td>\n",
       "      <td>2.634885</td>\n",
       "      <td>-0.764767</td>\n",
       "    </tr>\n",
       "    <tr>\n",
       "      <th>Strategy_1</th>\n",
       "      <td>1.924887</td>\n",
       "      <td>1.838961</td>\n",
       "      <td>3.379464</td>\n",
       "      <td>-0.491516</td>\n",
       "    </tr>\n",
       "    <tr>\n",
       "      <th>Strategy_2</th>\n",
       "      <td>1.858101</td>\n",
       "      <td>1.549938</td>\n",
       "      <td>2.729117</td>\n",
       "      <td>-0.698930</td>\n",
       "    </tr>\n",
       "    <tr>\n",
       "      <th>S&amp;P_500</th>\n",
       "      <td>0.165268</td>\n",
       "      <td>0.521205</td>\n",
       "      <td>1.122045</td>\n",
       "      <td>-0.341047</td>\n",
       "    </tr>\n",
       "  </tbody>\n",
       "</table>\n",
       "</div>"
      ],
      "text/plain": [
       "            Annualized Return  Sharp Ratio  Cumulative Return  \\\n",
       "Strategy_0           1.991673     1.491921           2.634885   \n",
       "Strategy_1           1.924887     1.838961           3.379464   \n",
       "Strategy_2           1.858101     1.549938           2.729117   \n",
       "S&P_500              0.165268     0.521205           1.122045   \n",
       "\n",
       "            Maximum Drawdown  \n",
       "Strategy_0         -0.764767  \n",
       "Strategy_1         -0.491516  \n",
       "Strategy_2         -0.698930  \n",
       "S&P_500            -0.341047  "
      ]
     },
     "execution_count": 79,
     "metadata": {},
     "output_type": "execute_result"
    }
   ],
   "source": [
    "Strategy_Backtest_Signal_Weight(y_predict_BERT_RF, 'Signal Weighted Portfolio with BERT + Random Forest Model')"
   ]
  },
  {
   "cell_type": "markdown",
   "id": "f8cb4e48",
   "metadata": {},
   "source": [
    "## 10.3 BERT + SVM [ Trade only the stock with news each day - Discrete Signals ]"
   ]
  },
  {
   "cell_type": "code",
   "execution_count": 80,
   "id": "ef0d0d1e",
   "metadata": {},
   "outputs": [],
   "source": [
    "# Compute y_predict_BERT_SVM\n",
    "svm_model = SVC(kernel='rbf', probability=True, random_state=0)\n",
    "svm_model.fit(bert_w2vec_X_train, y_train)\n",
    "y_predict_BERT_SVM = svm_model.predict(bert_w2vec_X_test)"
   ]
  },
  {
   "cell_type": "code",
   "execution_count": 81,
   "id": "786fa700",
   "metadata": {},
   "outputs": [
    {
     "data": {
      "image/png": "[encoded data removed]",
      "text/plain": [
       "<Figure size 576x288 with 1 Axes>"
      ]
     },
     "metadata": {},
     "output_type": "display_data"
    },
    {
     "data": {
      "text/html": [
       "<div>\n",
       "<style scoped>\n",
       "    .dataframe tbody tr th:only-of-type {\n",
       "        vertical-align: middle;\n",
       "    }\n",
       "\n",
       "    .dataframe tbody tr th {\n",
       "        vertical-align: top;\n",
       "    }\n",
       "\n",
       "    .dataframe thead th {\n",
       "        text-align: right;\n",
       "    }\n",
       "</style>\n",
       "<table border=\"1\" class=\"dataframe\">\n",
       "  <thead>\n",
       "    <tr style=\"text-align: right;\">\n",
       "      <th></th>\n",
       "      <th>Annualized Return</th>\n",
       "      <th>Sharp Ratio</th>\n",
       "      <th>Cumulative Return</th>\n",
       "      <th>Maximum Drawdown</th>\n",
       "    </tr>\n",
       "  </thead>\n",
       "  <tbody>\n",
       "    <tr>\n",
       "      <th>Strategy_0</th>\n",
       "      <td>2.070135</td>\n",
       "      <td>1.553466</td>\n",
       "      <td>2.831135</td>\n",
       "      <td>-0.771499</td>\n",
       "    </tr>\n",
       "    <tr>\n",
       "      <th>Strategy_1</th>\n",
       "      <td>3.557217</td>\n",
       "      <td>2.170141</td>\n",
       "      <td>7.457647</td>\n",
       "      <td>-0.685597</td>\n",
       "    </tr>\n",
       "    <tr>\n",
       "      <th>Strategy_2</th>\n",
       "      <td>2.693448</td>\n",
       "      <td>2.250526</td>\n",
       "      <td>5.701298</td>\n",
       "      <td>-0.610722</td>\n",
       "    </tr>\n",
       "    <tr>\n",
       "      <th>S&amp;P_500</th>\n",
       "      <td>0.165268</td>\n",
       "      <td>0.521205</td>\n",
       "      <td>1.122045</td>\n",
       "      <td>-0.341047</td>\n",
       "    </tr>\n",
       "  </tbody>\n",
       "</table>\n",
       "</div>"
      ],
      "text/plain": [
       "            Annualized Return  Sharp Ratio  Cumulative Return  \\\n",
       "Strategy_0           2.070135     1.553466           2.831135   \n",
       "Strategy_1           3.557217     2.170141           7.457647   \n",
       "Strategy_2           2.693448     2.250526           5.701298   \n",
       "S&P_500              0.165268     0.521205           1.122045   \n",
       "\n",
       "            Maximum Drawdown  \n",
       "Strategy_0         -0.771499  \n",
       "Strategy_1         -0.685597  \n",
       "Strategy_2         -0.610722  \n",
       "S&P_500            -0.341047  "
      ]
     },
     "execution_count": 81,
     "metadata": {},
     "output_type": "execute_result"
    }
   ],
   "source": [
    "Strategy_Backtest_Equal_Weight(y_predict_BERT_SVM, 'Equally Weighted Portfolio with BERT + SVM Model')"
   ]
  },
  {
   "cell_type": "code",
   "execution_count": 82,
   "id": "c298d2cc",
   "metadata": {},
   "outputs": [
    {
     "data": {
      "image/png": "[encoded data removed]",
      "text/plain": [
       "<Figure size 576x288 with 1 Axes>"
      ]
     },
     "metadata": {},
     "output_type": "display_data"
    },
    {
     "data": {
      "text/html": [
       "<div>\n",
       "<style scoped>\n",
       "    .dataframe tbody tr th:only-of-type {\n",
       "        vertical-align: middle;\n",
       "    }\n",
       "\n",
       "    .dataframe tbody tr th {\n",
       "        vertical-align: top;\n",
       "    }\n",
       "\n",
       "    .dataframe thead th {\n",
       "        text-align: right;\n",
       "    }\n",
       "</style>\n",
       "<table border=\"1\" class=\"dataframe\">\n",
       "  <thead>\n",
       "    <tr style=\"text-align: right;\">\n",
       "      <th></th>\n",
       "      <th>Annualized Return</th>\n",
       "      <th>Sharp Ratio</th>\n",
       "      <th>Cumulative Return</th>\n",
       "      <th>Maximum Drawdown</th>\n",
       "    </tr>\n",
       "  </thead>\n",
       "  <tbody>\n",
       "    <tr>\n",
       "      <th>Strategy_0</th>\n",
       "      <td>1.863309</td>\n",
       "      <td>1.377802</td>\n",
       "      <td>2.298536</td>\n",
       "      <td>-0.796152</td>\n",
       "    </tr>\n",
       "    <tr>\n",
       "      <th>Strategy_1</th>\n",
       "      <td>2.340624</td>\n",
       "      <td>2.263162</td>\n",
       "      <td>4.918682</td>\n",
       "      <td>-0.528151</td>\n",
       "    </tr>\n",
       "    <tr>\n",
       "      <th>Strategy_2</th>\n",
       "      <td>2.817939</td>\n",
       "      <td>2.350134</td>\n",
       "      <td>6.349890</td>\n",
       "      <td>-0.609455</td>\n",
       "    </tr>\n",
       "    <tr>\n",
       "      <th>S&amp;P_500</th>\n",
       "      <td>0.165268</td>\n",
       "      <td>0.521205</td>\n",
       "      <td>1.122045</td>\n",
       "      <td>-0.341047</td>\n",
       "    </tr>\n",
       "  </tbody>\n",
       "</table>\n",
       "</div>"
      ],
      "text/plain": [
       "            Annualized Return  Sharp Ratio  Cumulative Return  \\\n",
       "Strategy_0           1.863309     1.377802           2.298536   \n",
       "Strategy_1           2.340624     2.263162           4.918682   \n",
       "Strategy_2           2.817939     2.350134           6.349890   \n",
       "S&P_500              0.165268     0.521205           1.122045   \n",
       "\n",
       "            Maximum Drawdown  \n",
       "Strategy_0         -0.796152  \n",
       "Strategy_1         -0.528151  \n",
       "Strategy_2         -0.609455  \n",
       "S&P_500            -0.341047  "
      ]
     },
     "execution_count": 82,
     "metadata": {},
     "output_type": "execute_result"
    }
   ],
   "source": [
    "Strategy_Backtest_Signal_Weight(y_predict_BERT_SVM, 'Signal Weighted Portfolio with BERT + SVM Model')"
   ]
  },
  {
   "cell_type": "markdown",
   "id": "068f3518",
   "metadata": {},
   "source": [
    "## 10.4 BERT + RF [ Track all stocks every day - Continuous Signals ]"
   ]
  },
  {
   "cell_type": "code",
   "execution_count": 83,
   "id": "8a71f87f",
   "metadata": {},
   "outputs": [],
   "source": [
    "# Use one year of data for strategy testing\n",
    "df_test = df.loc[test_period, ['headline','date','stock']].copy()\n",
    "df_test['signal'] = y_predict_BERT_RF\n",
    "df_test[\"signal\"] = (df_test['signal'] - 1) * 2 + 1\n",
    "df_test.sort_values(by=[\"date\",\"stock\"],inplace=True)\n",
    "df_test.head()\n",
    "\n",
    "# Voting signal for each stock\n",
    "df_signa1_per_stock = df_test[['signal']].groupby([df_test['date'],df_test['stock']] ).sum().reset_index()\n",
    "df_signa1_per_stock.columns = ['date', 'stock', 'signal_sum']\n",
    "df_signa1_per_stock[\"signal_0\"] = 1\n",
    "df_signa1_per_stock[\"signal_1\"] = df_signa1_per_stock[\"signal_sum\"].apply(lambda x:1 if x>0 else 0)\n",
    "df_signa1_per_stock[\"signal_2\"] = df_signa1_per_stock[\"signal_sum\"].apply(lambda x:1 if x>0 else (-1 if x<0 else 0))"
   ]
  },
  {
   "cell_type": "code",
   "execution_count": 84,
   "id": "332b1f51",
   "metadata": {},
   "outputs": [],
   "source": [
    "# Get the stock return for all days during test period, and merge with signals\n",
    "stock_return_continue = stock_return_all.loc[(stock_return_all['date']>='2019-06-02') \n",
    "                                             & (stock_return_all['date']<='2020-06-02')].dropna()\n",
    "stock_return_continue = stock_return_continue.merge(df_signa1_per_stock, how='left', on=['stock', 'date'])\n",
    "stock_return_continue.fillna(1, inplace=True)"
   ]
  },
  {
   "cell_type": "code",
   "execution_count": 85,
   "id": "c69d990f",
   "metadata": {},
   "outputs": [],
   "source": [
    "# Calculate daily return for each stock\n",
    "stock_return_continue[\"return_0\"] = stock_return_continue[\"next_day_return\"] * stock_return_continue[\"signal_0\"]\n",
    "stock_return_continue[\"return_1\"] = stock_return_continue[\"next_day_return\"] * stock_return_continue[\"signal_1\"]\n",
    "stock_return_continue[\"return_2\"] = stock_return_continue[\"next_day_return\"] * stock_return_continue[\"signal_2\"]"
   ]
  },
  {
   "cell_type": "code",
   "execution_count": 86,
   "id": "b886019c",
   "metadata": {},
   "outputs": [
    {
     "data": {
      "text/html": [
       "<div>\n",
       "<style scoped>\n",
       "    .dataframe tbody tr th:only-of-type {\n",
       "        vertical-align: middle;\n",
       "    }\n",
       "\n",
       "    .dataframe tbody tr th {\n",
       "        vertical-align: top;\n",
       "    }\n",
       "\n",
       "    .dataframe thead th {\n",
       "        text-align: right;\n",
       "    }\n",
       "</style>\n",
       "<table border=\"1\" class=\"dataframe\">\n",
       "  <thead>\n",
       "    <tr style=\"text-align: right;\">\n",
       "      <th></th>\n",
       "      <th>return_0</th>\n",
       "      <th>return_1</th>\n",
       "      <th>return_2</th>\n",
       "    </tr>\n",
       "    <tr>\n",
       "      <th>stock</th>\n",
       "      <th></th>\n",
       "      <th></th>\n",
       "      <th></th>\n",
       "    </tr>\n",
       "  </thead>\n",
       "  <tbody>\n",
       "    <tr>\n",
       "      <th>A</th>\n",
       "      <td>1.218667</td>\n",
       "      <td>1.218667</td>\n",
       "      <td>1.218667</td>\n",
       "    </tr>\n",
       "    <tr>\n",
       "      <th>AA</th>\n",
       "      <td>0.423429</td>\n",
       "      <td>0.462486</td>\n",
       "      <td>0.501542</td>\n",
       "    </tr>\n",
       "    <tr>\n",
       "      <th>AADR</th>\n",
       "      <td>1.099114</td>\n",
       "      <td>1.099114</td>\n",
       "      <td>1.099114</td>\n",
       "    </tr>\n",
       "    <tr>\n",
       "      <th>AAL</th>\n",
       "      <td>0.206913</td>\n",
       "      <td>0.206913</td>\n",
       "      <td>0.206913</td>\n",
       "    </tr>\n",
       "    <tr>\n",
       "      <th>AAME</th>\n",
       "      <td>2.656476</td>\n",
       "      <td>2.656476</td>\n",
       "      <td>2.656476</td>\n",
       "    </tr>\n",
       "    <tr>\n",
       "      <th>...</th>\n",
       "      <td>...</td>\n",
       "      <td>...</td>\n",
       "      <td>...</td>\n",
       "    </tr>\n",
       "    <tr>\n",
       "      <th>ZMLP</th>\n",
       "      <td>0.620170</td>\n",
       "      <td>0.620170</td>\n",
       "      <td>0.620170</td>\n",
       "    </tr>\n",
       "    <tr>\n",
       "      <th>ZSL</th>\n",
       "      <td>0.941286</td>\n",
       "      <td>0.941286</td>\n",
       "      <td>0.941286</td>\n",
       "    </tr>\n",
       "    <tr>\n",
       "      <th>ZTR</th>\n",
       "      <td>1.284249</td>\n",
       "      <td>1.284249</td>\n",
       "      <td>1.284249</td>\n",
       "    </tr>\n",
       "    <tr>\n",
       "      <th>ZTS</th>\n",
       "      <td>1.231326</td>\n",
       "      <td>1.231326</td>\n",
       "      <td>1.231326</td>\n",
       "    </tr>\n",
       "    <tr>\n",
       "      <th>ZUMZ</th>\n",
       "      <td>0.790561</td>\n",
       "      <td>0.704570</td>\n",
       "      <td>0.618580</td>\n",
       "    </tr>\n",
       "  </tbody>\n",
       "</table>\n",
       "<p>4131 rows × 3 columns</p>\n",
       "</div>"
      ],
      "text/plain": [
       "       return_0  return_1  return_2\n",
       "stock                              \n",
       "A      1.218667  1.218667  1.218667\n",
       "AA     0.423429  0.462486  0.501542\n",
       "AADR   1.099114  1.099114  1.099114\n",
       "AAL    0.206913  0.206913  0.206913\n",
       "AAME   2.656476  2.656476  2.656476\n",
       "...         ...       ...       ...\n",
       "ZMLP   0.620170  0.620170  0.620170\n",
       "ZSL    0.941286  0.941286  0.941286\n",
       "ZTR    1.284249  1.284249  1.284249\n",
       "ZTS    1.231326  1.231326  1.231326\n",
       "ZUMZ   0.790561  0.704570  0.618580\n",
       "\n",
       "[4131 rows x 3 columns]"
      ]
     },
     "execution_count": 86,
     "metadata": {},
     "output_type": "execute_result"
    }
   ],
   "source": [
    "# Calculate cumulative return for each stock\n",
    "stock_return_continue = (stock_return_continue[['return_0', 'return_1', 'return_2']]+1).groupby(stock_return_continue['stock']).prod()\n",
    "stock_return_continue"
   ]
  },
  {
   "cell_type": "code",
   "execution_count": 87,
   "id": "eac167f6",
   "metadata": {},
   "outputs": [],
   "source": [
    "# Statistics of stocks enhanced by Strategy_1, compared to the Buy and Hold Strategy_0\n",
    "Strategy_1_Enhanced = (stock_return_continue.return_1>stock_return_continue.return_0).sum() / stock_return_continue.return_0.count()\n",
    "Strategy_1_Same = (stock_return_continue.return_1==stock_return_continue.return_0).sum() / stock_return_continue.return_0.count()\n",
    "Strategy_1_Worsen = (stock_return_continue.return_1<stock_return_continue.return_0).sum() / stock_return_continue.return_0.count()"
   ]
  },
  {
   "cell_type": "code",
   "execution_count": 88,
   "id": "22871f45",
   "metadata": {},
   "outputs": [],
   "source": [
    "# Statistics of stocks enhanced by Strategy_2, compared to the Buy and Hold Strategy_0\n",
    "Strategy_2_Enhanced = (stock_return_continue.return_2>stock_return_continue.return_0).sum() / stock_return_continue.return_0.count()\n",
    "Strategy_2_Same = (stock_return_continue.return_2==stock_return_continue.return_0).sum() / stock_return_continue.return_0.count()\n",
    "Strategy_2_Worsen = (stock_return_continue.return_2<stock_return_continue.return_0).sum() / stock_return_continue.return_0.count()"
   ]
  },
  {
   "cell_type": "code",
   "execution_count": 89,
   "id": "e26c483c",
   "metadata": {},
   "outputs": [
    {
     "data": {
      "text/html": [
       "<div>\n",
       "<style scoped>\n",
       "    .dataframe tbody tr th:only-of-type {\n",
       "        vertical-align: middle;\n",
       "    }\n",
       "\n",
       "    .dataframe tbody tr th {\n",
       "        vertical-align: top;\n",
       "    }\n",
       "\n",
       "    .dataframe thead th {\n",
       "        text-align: right;\n",
       "    }\n",
       "</style>\n",
       "<table border=\"1\" class=\"dataframe\">\n",
       "  <thead>\n",
       "    <tr style=\"text-align: right;\">\n",
       "      <th>BERT + RF Compared to Strategy_0</th>\n",
       "      <th>Strategy_1</th>\n",
       "      <th>Strategy_2</th>\n",
       "    </tr>\n",
       "  </thead>\n",
       "  <tbody>\n",
       "    <tr>\n",
       "      <th>% of Stocks Return Enhanced</th>\n",
       "      <td>8.1336</td>\n",
       "      <td>8.1578</td>\n",
       "    </tr>\n",
       "    <tr>\n",
       "      <th>% of Stocks Return the Same</th>\n",
       "      <td>84.5074</td>\n",
       "      <td>84.5074</td>\n",
       "    </tr>\n",
       "    <tr>\n",
       "      <th>% of Stocks Return Worsen</th>\n",
       "      <td>7.3590</td>\n",
       "      <td>7.3348</td>\n",
       "    </tr>\n",
       "  </tbody>\n",
       "</table>\n",
       "</div>"
      ],
      "text/plain": [
       "BERT + RF Compared to Strategy_0  Strategy_1  Strategy_2\n",
       "% of Stocks Return Enhanced           8.1336      8.1578\n",
       "% of Stocks Return the Same          84.5074     84.5074\n",
       "% of Stocks Return Worsen             7.3590      7.3348"
      ]
     },
     "execution_count": 89,
     "metadata": {},
     "output_type": "execute_result"
    }
   ],
   "source": [
    "df_test_statistics = pd.DataFrame(index=['Strategy_1', 'Strategy_2'], \n",
    "                                  columns=['% of Stocks Return Enhanced', '% of Stocks Return the Same', '% of Stocks Return Worsen'])\n",
    "df_test_statistics.iloc[:,0] = [round(Strategy_1_Enhanced*100,4), round(Strategy_2_Enhanced*100,4)]\n",
    "df_test_statistics.iloc[:,1] = [round(Strategy_1_Same*100,4), round(Strategy_2_Same*100,4)] \n",
    "df_test_statistics.iloc[:,2] = [round(Strategy_1_Worsen*100,4), round(Strategy_2_Worsen*100,4)]\n",
    "df_test_statistics.index.name = 'BERT + RF Compared to Strategy_0'\n",
    "df_test_statistics.T"
   ]
  },
  {
   "cell_type": "markdown",
   "id": "d4070630",
   "metadata": {},
   "source": [
    "## 10.5 BERT + SVM [ Track all stocks every day - Continuous Signals ]"
   ]
  },
  {
   "cell_type": "code",
   "execution_count": 90,
   "id": "55be44df",
   "metadata": {},
   "outputs": [],
   "source": [
    "# Use one year of data for strategy testing\n",
    "df_test = df.loc[test_period, ['headline','date','stock']].copy()\n",
    "df_test['signal'] = y_predict_BERT_SVM\n",
    "df_test[\"signal\"] = (df_test['signal'] - 1) * 2 + 1\n",
    "df_test.sort_values(by=[\"date\",\"stock\"],inplace=True)\n",
    "df_test.head()\n",
    "\n",
    "# Voting signal for each stock\n",
    "df_signa1_per_stock = df_test[['signal']].groupby([df_test['date'],df_test['stock']] ).sum().reset_index()\n",
    "df_signa1_per_stock.columns = ['date', 'stock', 'signal_sum']\n",
    "df_signa1_per_stock[\"signal_0\"] = 1\n",
    "df_signa1_per_stock[\"signal_1\"] = df_signa1_per_stock[\"signal_sum\"].apply(lambda x:1 if x>0 else 0)\n",
    "df_signa1_per_stock[\"signal_2\"] = df_signa1_per_stock[\"signal_sum\"].apply(lambda x:1 if x>0 else (-1 if x<0 else 0))"
   ]
  },
  {
   "cell_type": "code",
   "execution_count": 91,
   "id": "dd30ddbe",
   "metadata": {},
   "outputs": [],
   "source": [
    "# Get the stock return for all days during test period, and merge with signals\n",
    "stock_return_continue = stock_return_all.loc[(stock_return_all['date']>='2019-06-02')\n",
    "                                             & (stock_return_all['date']<='2020-06-02')].dropna()\n",
    "stock_return_continue = stock_return_continue.merge(df_signa1_per_stock, how='left', on=['stock', 'date'])\n",
    "stock_return_continue.fillna(1, inplace=True)"
   ]
  },
  {
   "cell_type": "code",
   "execution_count": 92,
   "id": "e6c837d9",
   "metadata": {},
   "outputs": [],
   "source": [
    "# Calculate daily return for each stock\n",
    "stock_return_continue[\"return_0\"] = stock_return_continue[\"next_day_return\"] * stock_return_continue[\"signal_0\"]\n",
    "stock_return_continue[\"return_1\"] = stock_return_continue[\"next_day_return\"] * stock_return_continue[\"signal_1\"]\n",
    "stock_return_continue[\"return_2\"] = stock_return_continue[\"next_day_return\"] * stock_return_continue[\"signal_2\"]"
   ]
  },
  {
   "cell_type": "code",
   "execution_count": 93,
   "id": "6df66003",
   "metadata": {},
   "outputs": [
    {
     "data": {
      "text/html": [
       "<div>\n",
       "<style scoped>\n",
       "    .dataframe tbody tr th:only-of-type {\n",
       "        vertical-align: middle;\n",
       "    }\n",
       "\n",
       "    .dataframe tbody tr th {\n",
       "        vertical-align: top;\n",
       "    }\n",
       "\n",
       "    .dataframe thead th {\n",
       "        text-align: right;\n",
       "    }\n",
       "</style>\n",
       "<table border=\"1\" class=\"dataframe\">\n",
       "  <thead>\n",
       "    <tr style=\"text-align: right;\">\n",
       "      <th></th>\n",
       "      <th>return_0</th>\n",
       "      <th>return_1</th>\n",
       "      <th>return_2</th>\n",
       "    </tr>\n",
       "    <tr>\n",
       "      <th>stock</th>\n",
       "      <th></th>\n",
       "      <th></th>\n",
       "      <th></th>\n",
       "    </tr>\n",
       "  </thead>\n",
       "  <tbody>\n",
       "    <tr>\n",
       "      <th>A</th>\n",
       "      <td>1.218667</td>\n",
       "      <td>1.218667</td>\n",
       "      <td>1.218667</td>\n",
       "    </tr>\n",
       "    <tr>\n",
       "      <th>AA</th>\n",
       "      <td>0.423429</td>\n",
       "      <td>0.462486</td>\n",
       "      <td>0.501542</td>\n",
       "    </tr>\n",
       "    <tr>\n",
       "      <th>AADR</th>\n",
       "      <td>1.099114</td>\n",
       "      <td>1.099114</td>\n",
       "      <td>1.099114</td>\n",
       "    </tr>\n",
       "    <tr>\n",
       "      <th>AAL</th>\n",
       "      <td>0.206913</td>\n",
       "      <td>0.206913</td>\n",
       "      <td>0.206913</td>\n",
       "    </tr>\n",
       "    <tr>\n",
       "      <th>AAME</th>\n",
       "      <td>2.656476</td>\n",
       "      <td>2.656476</td>\n",
       "      <td>2.656476</td>\n",
       "    </tr>\n",
       "    <tr>\n",
       "      <th>...</th>\n",
       "      <td>...</td>\n",
       "      <td>...</td>\n",
       "      <td>...</td>\n",
       "    </tr>\n",
       "    <tr>\n",
       "      <th>ZMLP</th>\n",
       "      <td>0.620170</td>\n",
       "      <td>0.620170</td>\n",
       "      <td>0.620170</td>\n",
       "    </tr>\n",
       "    <tr>\n",
       "      <th>ZSL</th>\n",
       "      <td>0.941286</td>\n",
       "      <td>0.941286</td>\n",
       "      <td>0.941286</td>\n",
       "    </tr>\n",
       "    <tr>\n",
       "      <th>ZTR</th>\n",
       "      <td>1.284249</td>\n",
       "      <td>1.284249</td>\n",
       "      <td>1.284249</td>\n",
       "    </tr>\n",
       "    <tr>\n",
       "      <th>ZTS</th>\n",
       "      <td>1.231326</td>\n",
       "      <td>1.231326</td>\n",
       "      <td>1.231326</td>\n",
       "    </tr>\n",
       "    <tr>\n",
       "      <th>ZUMZ</th>\n",
       "      <td>0.790561</td>\n",
       "      <td>0.704570</td>\n",
       "      <td>0.618580</td>\n",
       "    </tr>\n",
       "  </tbody>\n",
       "</table>\n",
       "<p>4131 rows × 3 columns</p>\n",
       "</div>"
      ],
      "text/plain": [
       "       return_0  return_1  return_2\n",
       "stock                              \n",
       "A      1.218667  1.218667  1.218667\n",
       "AA     0.423429  0.462486  0.501542\n",
       "AADR   1.099114  1.099114  1.099114\n",
       "AAL    0.206913  0.206913  0.206913\n",
       "AAME   2.656476  2.656476  2.656476\n",
       "...         ...       ...       ...\n",
       "ZMLP   0.620170  0.620170  0.620170\n",
       "ZSL    0.941286  0.941286  0.941286\n",
       "ZTR    1.284249  1.284249  1.284249\n",
       "ZTS    1.231326  1.231326  1.231326\n",
       "ZUMZ   0.790561  0.704570  0.618580\n",
       "\n",
       "[4131 rows x 3 columns]"
      ]
     },
     "execution_count": 93,
     "metadata": {},
     "output_type": "execute_result"
    }
   ],
   "source": [
    "# Calculate cumulative return for each stock\n",
    "stock_return_continue = (stock_return_continue[['return_0', 'return_1', 'return_2']]+1).groupby(stock_return_continue['stock']).prod()\n",
    "stock_return_continue"
   ]
  },
  {
   "cell_type": "code",
   "execution_count": 94,
   "id": "f2bfef3d",
   "metadata": {},
   "outputs": [],
   "source": [
    "# Statistics of stocks enhanced by Strategy_1, compared to the Buy and Hold Strategy_0\n",
    "Strategy_1_Enhanced = (stock_return_continue.return_1>stock_return_continue.return_0).sum() / stock_return_continue.return_0.count()\n",
    "Strategy_1_Same = (stock_return_continue.return_1==stock_return_continue.return_0).sum() / stock_return_continue.return_0.count()\n",
    "Strategy_1_Worsen = (stock_return_continue.return_1<stock_return_continue.return_0).sum() / stock_return_continue.return_0.count()"
   ]
  },
  {
   "cell_type": "code",
   "execution_count": 95,
   "id": "6a165a43",
   "metadata": {},
   "outputs": [],
   "source": [
    "# Statistics of stocks enhanced by Strategy_2, compared to the Buy and Hold Strategy_0\n",
    "Strategy_2_Enhanced = (stock_return_continue.return_2>stock_return_continue.return_0).sum() / stock_return_continue.return_0.count()\n",
    "Strategy_2_Same = (stock_return_continue.return_2==stock_return_continue.return_0).sum() / stock_return_continue.return_0.count()\n",
    "Strategy_2_Worsen = (stock_return_continue.return_2<stock_return_continue.return_0).sum() / stock_return_continue.return_0.count()"
   ]
  },
  {
   "cell_type": "code",
   "execution_count": 96,
   "id": "83504dad",
   "metadata": {
    "scrolled": true
   },
   "outputs": [
    {
     "data": {
      "text/html": [
       "<div>\n",
       "<style scoped>\n",
       "    .dataframe tbody tr th:only-of-type {\n",
       "        vertical-align: middle;\n",
       "    }\n",
       "\n",
       "    .dataframe tbody tr th {\n",
       "        vertical-align: top;\n",
       "    }\n",
       "\n",
       "    .dataframe thead th {\n",
       "        text-align: right;\n",
       "    }\n",
       "</style>\n",
       "<table border=\"1\" class=\"dataframe\">\n",
       "  <thead>\n",
       "    <tr style=\"text-align: right;\">\n",
       "      <th>BERT + SVM Compared to Strategy_0</th>\n",
       "      <th>Strategy_1</th>\n",
       "      <th>Strategy_2</th>\n",
       "    </tr>\n",
       "  </thead>\n",
       "  <tbody>\n",
       "    <tr>\n",
       "      <th>% of Stocks Return Enhanced</th>\n",
       "      <td>8.3757</td>\n",
       "      <td>8.3999</td>\n",
       "    </tr>\n",
       "    <tr>\n",
       "      <th>% of Stocks Return the Same</th>\n",
       "      <td>84.0232</td>\n",
       "      <td>84.0232</td>\n",
       "    </tr>\n",
       "    <tr>\n",
       "      <th>% of Stocks Return Worsen</th>\n",
       "      <td>7.6011</td>\n",
       "      <td>7.5769</td>\n",
       "    </tr>\n",
       "  </tbody>\n",
       "</table>\n",
       "</div>"
      ],
      "text/plain": [
       "BERT + SVM Compared to Strategy_0  Strategy_1  Strategy_2\n",
       "% of Stocks Return Enhanced            8.3757      8.3999\n",
       "% of Stocks Return the Same           84.0232     84.0232\n",
       "% of Stocks Return Worsen              7.6011      7.5769"
      ]
     },
     "execution_count": 96,
     "metadata": {},
     "output_type": "execute_result"
    }
   ],
   "source": [
    "df_test_statistics = pd.DataFrame(index=['Strategy_1', 'Strategy_2'], \n",
    "                                  columns=['% of Stocks Return Enhanced', '% of Stocks Return the Same', '% of Stocks Return Worsen'])\n",
    "df_test_statistics.iloc[:,0] = [round(Strategy_1_Enhanced*100,4), round(Strategy_2_Enhanced*100,4)]\n",
    "df_test_statistics.iloc[:,1] = [round(Strategy_1_Same*100,4), round(Strategy_2_Same*100,4)] \n",
    "df_test_statistics.iloc[:,2] = [round(Strategy_1_Worsen*100,4), round(Strategy_2_Worsen*100,4)]\n",
    "\n",
    "df_test_statistics.index.name = 'BERT + SVM Compared to Strategy_0'\n",
    "df_test_statistics.T"
   ]
  }
 ],
 "metadata": {
  "kernelspec": {
   "display_name": "Python 3",
   "language": "python",
   "name": "python3"
  },
  "language_info": {
   "codemirror_mode": {
    "name": "ipython",
    "version": 3
   },
   "file_extension": ".py",
   "mimetype": "text/x-python",
   "name": "python",
   "nbconvert_exporter": "python",
   "pygments_lexer": "ipython3",
   "version": "3.8.8"
  }
 },
 "nbformat": 4,
 "nbformat_minor": 5
}
